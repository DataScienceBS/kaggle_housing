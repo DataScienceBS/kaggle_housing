{
 "cells": [
  {
   "cell_type": "markdown",
   "metadata": {},
   "source": [
    "# NSS_Lions_and_Lioness"
   ]
  },
  {
   "cell_type": "markdown",
   "metadata": {},
   "source": [
    "```SalePrice - the property's sale price in dollars. This is the target variable that you're trying to predict.\n",
    "MSSubClass: The building class\n",
    "MSZoning: The general zoning classification\n",
    "LotFrontage: Linear feet of street connected to property\n",
    "LotArea: Lot size in square feet\n",
    "Street: Type of road access\n",
    "Alley: Type of alley access\n",
    "LotShape: General shape of property\n",
    "LandContour: Flatness of the property\n",
    "Utilities: Type of utilities available\n",
    "LotConfig: Lot configuration\n",
    "LandSlope: Slope of property\n",
    "Neighborhood: Physical locations within Ames city limits\n",
    "Condition1: Proximity to main road or railroad\n",
    "Condition2: Proximity to main road or railroad (if a second is present)\n",
    "BldgType: Type of dwelling\n",
    "HouseStyle: Style of dwelling\n",
    "OverallQual: Overall material and finish quality\n",
    "OverallCond: Overall condition rating\n",
    "YearBuilt: Original construction date\n",
    "YearRemodAdd: Remodel date\n",
    "RoofStyle: Type of roof\n",
    "RoofMatl: Roof material\n",
    "Exterior1st: Exterior covering on house\n",
    "Exterior2nd: Exterior covering on house (if more than one material)\n",
    "MasVnrType: Masonry veneer type\n",
    "MasVnrArea: Masonry veneer area in square feet\n",
    "ExterQual: Exterior material quality\n",
    "ExterCond: Present condition of the material on the exterior\n",
    "Foundation: Type of foundation\n",
    "BsmtQual: Height of the basement\n",
    "BsmtCond: General condition of the basement\n",
    "BsmtExposure: Walkout or garden level basement walls\n",
    "BsmtFinType1: Quality of basement finished area\n",
    "BsmtFinSF1: Type 1 finished square feet\n",
    "BsmtFinType2: Quality of second finished area (if present)\n",
    "BsmtFinSF2: Type 2 finished square feet\n",
    "BsmtUnfSF: Unfinished square feet of basement area\n",
    "TotalBsmtSF: Total square feet of basement area\n",
    "Heating: Type of heating\n",
    "HeatingQC: Heating quality and condition\n",
    "CentralAir: Central air conditioning\n",
    "Electrical: Electrical system\n",
    "1stFlrSF: First Floor square feet\n",
    "2ndFlrSF: Second floor square feet\n",
    "LowQualFinSF: Low quality finished square feet (all floors)\n",
    "GrLivArea: Above grade (ground) living area square feet\n",
    "BsmtFullBath: Basement full bathrooms\n",
    "BsmtHalfBath: Basement half bathrooms\n",
    "FullBath: Full bathrooms above grade\n",
    "HalfBath: Half baths above grade\n",
    "Bedroom: Number of bedrooms above basement level\n",
    "Kitchen: Number of kitchens\n",
    "KitchenQual: Kitchen quality\n",
    "TotRmsAbvGrd: Total rooms above grade (does not include bathrooms)\n",
    "Functional: Home functionality rating\n",
    "Fireplaces: Number of fireplaces\n",
    "FireplaceQu: Fireplace quality\n",
    "GarageType: Garage location\n",
    "GarageYrBlt: Year garage was built\n",
    "GarageFinish: Interior finish of the garage\n",
    "GarageCars: Size of garage in car capacity\n",
    "GarageArea: Size of garage in square feet\n",
    "GarageQual: Garage quality\n",
    "GarageCond: Garage condition\n",
    "PavedDrive: Paved driveway\n",
    "WoodDeckSF: Wood deck area in square feet\n",
    "OpenPorchSF: Open porch area in square feet\n",
    "EnclosedPorch: Enclosed porch area in square feet\n",
    "3SsnPorch: Three season porch area in square feet\n",
    "ScreenPorch: Screen porch area in square feet\n",
    "PoolArea: Pool area in square feet\n",
    "PoolQC: Pool quality\n",
    "Fence: Fence quality\n",
    "MiscFeature: Miscellaneous feature not covered in other categories\n",
    "MiscVal: $Value of miscellaneous feature\n",
    "MoSold: Month Sold\n",
    "YrSold: Year Sold\n",
    "SaleType: Type of sale\n",
    "SaleCondition: Condition of sale```"
   ]
  },
  {
   "cell_type": "code",
   "execution_count": 22,
   "metadata": {},
   "outputs": [],
   "source": [
    "import pandas as pd\n",
    "import numpy as np\n",
    "import matplotlib.pyplot as plt\n",
    "import seaborn as sns\n",
    "from sklearn import preprocessing"
   ]
  },
  {
   "cell_type": "code",
   "execution_count": 23,
   "metadata": {},
   "outputs": [],
   "source": [
    "df = pd.read_csv('data/train.csv')\n",
    "df_test = pd.read_csv('data/test.csv')"
   ]
  },
  {
   "cell_type": "code",
   "execution_count": 24,
   "metadata": {},
   "outputs": [],
   "source": [
    "# filling missing values\n",
    "df.BsmtExposure.fillna('NA', inplace=True)\n",
    "df.BsmtFinType2.fillna('NA', inplace=True)\n",
    "df.BsmtFinType1.fillna('NA', inplace=True)\n",
    "df.BsmtCond.fillna('NA', inplace=True)\n",
    "df.BsmtQual.fillna('NA', inplace=True)\n",
    "df.GarageCond.fillna('NA', inplace=True)\n",
    "df.GarageType.fillna('NA', inplace=True)\n",
    "df.GarageYrBlt.fillna('NA', inplace=True)\n",
    "df.GarageFinish.fillna('NA', inplace=True)\n",
    "df.GarageQual.fillna('NA', inplace=True)\n",
    "df.Electrical.fillna('NA', inplace=True)\n",
    "df.FireplaceQu.fillna('NA', inplace=True)\n",
    "df.MasVnrArea.fillna(0, inplace=True)\n",
    "df.MasVnrType.fillna(\"None\", inplace=True)\n",
    "df.Fence.fillna(\"NA\", inplace=True)\n",
    "df.Alley.fillna(\"NA\", inplace=True)\n",
    "df.PoolQC.fillna(\"NA\", inplace=True)\n",
    "df.MiscFeature.fillna(\"NA\", inplace=True)\n",
    "df.LotFrontage.fillna(df.LotFrontage.median(), inplace=True)"
   ]
  },
  {
   "cell_type": "code",
   "execution_count": 25,
   "metadata": {},
   "outputs": [],
   "source": [
    "# filling missing values\n",
    "df_test.BsmtExposure.fillna('NA', inplace=True)\n",
    "df_test.BsmtFinType2.fillna('NA', inplace=True)\n",
    "df_test.BsmtFinType1.fillna('NA', inplace=True)\n",
    "df_test.BsmtCond.fillna('NA', inplace=True)\n",
    "df_test.BsmtQual.fillna('NA', inplace=True)\n",
    "df_test.GarageCond.fillna('NA', inplace=True)\n",
    "df_test.GarageType.fillna('NA', inplace=True)\n",
    "df_test.GarageYrBlt.fillna('NA', inplace=True)\n",
    "df_test.GarageFinish.fillna('NA', inplace=True)\n",
    "df_test.GarageQual.fillna('NA', inplace=True)\n",
    "df_test.Electrical.fillna('NA', inplace=True)\n",
    "df_test.FireplaceQu.fillna('NA', inplace=True)\n",
    "df_test.MasVnrArea.fillna(0, inplace=True)\n",
    "df_test.MasVnrType.fillna(\"None\", inplace=True)\n",
    "df_test.Fence.fillna(\"NA\", inplace=True)\n",
    "df_test.Alley.fillna(\"NA\", inplace=True)\n",
    "df_test.PoolQC.fillna(\"NA\", inplace=True)\n",
    "df_test.MiscFeature.fillna(\"NA\", inplace=True)\n",
    "df_test.LotFrontage.fillna(df_test.LotFrontage.median(), inplace=True)"
   ]
  },
  {
   "cell_type": "code",
   "execution_count": 26,
   "metadata": {},
   "outputs": [],
   "source": [
    "# Cleaning test data set #\n",
    "df_test.SaleType.fillna('WD', inplace=True)\n",
    "df_test.GarageCars.fillna(0, inplace=True)\n",
    "df_test.GarageArea.fillna(0, inplace=True)\n",
    "df_test.KitchenQual.fillna('TA', inplace=True)\n",
    "df_test.MSZoning.fillna('RL', inplace=True)\n",
    "df_test.MasVnrType.fillna(\"None\", inplace=True)\n",
    "df_test.BsmtFullBath.fillna(0, inplace=True)\n",
    "df_test.BsmtHalfBath.fillna(0, inplace=True)\n",
    "df_test.Functional.fillna('Typ', inplace=True)\n",
    "df_test.BsmtFinSF1.fillna(0, inplace=True)\n",
    "df_test.BsmtFinSF2.fillna(0, inplace=True)\n",
    "df_test.Exterior1st.fillna(0, inplace=True)\n",
    "df_test.Exterior2nd.fillna(0, inplace=True)\n",
    "df_test.BsmtUnfSF.fillna(0, inplace=True)\n",
    "df_test.TotalBsmtSF.fillna(0, inplace=True)\n",
    "df_test.Utilities.fillna('AllPub', inplace=True)\n"
   ]
  },
  {
   "cell_type": "code",
   "execution_count": null,
   "metadata": {},
   "outputs": [],
   "source": []
  },
  {
   "cell_type": "code",
   "execution_count": 27,
   "metadata": {},
   "outputs": [
    {
     "name": "stderr",
     "output_type": "stream",
     "text": [
      "C:\\ProgramData\\Anaconda3\\lib\\site-packages\\ipykernel_launcher.py:14: UserWarning: Pandas doesn't allow columns to be created via a new attribute name - see https://pandas.pydata.org/pandas-docs/stable/indexing.html#attribute-access\n",
      "  \n",
      "C:\\ProgramData\\Anaconda3\\lib\\site-packages\\ipykernel_launcher.py:27: UserWarning: Pandas doesn't allow columns to be created via a new attribute name - see https://pandas.pydata.org/pandas-docs/stable/indexing.html#attribute-access\n"
     ]
    }
   ],
   "source": [
    "# feature engineering #\n",
    "\n",
    "df['Total_sq'] = (df['1stFlrSF'] + df['2ndFlrSF'] + df['LowQualFinSF'] + df['TotalBsmtSF'])\n",
    "#df['Age'] = 2018 - df.YearBuilt # did not appear to help\n",
    "#df['RemoAge'] = 2018 - df.YearRemodAdd # did not appear to help\n",
    "df.MSSubClass = df.MSSubClass.astype(str)\n",
    "df.YearBuilt = df.YearBuilt.astype(str)\n",
    "df.YearRemodAdd = df.YearRemodAdd.astype(str)\n",
    "#df.YrSold = df.YrSold.astype(str)\n",
    "df.MoSold = df.MoSold.astype(str)\n",
    "df.OverallQual = df.OverallQual.astype(str)\n",
    "df.OverallCond = df.OverallCond.astype(str)\n",
    "#df.Id = df.OverallCond.astype(str)\n",
    "df.TotalBath = (df.BsmtFullBath + df.FullBath) + ((df.BsmtHalfBath + df.HalfBath)*.5)\n",
    "\n",
    "df_test['Total_sq'] = (df_test['1stFlrSF'] + df_test['2ndFlrSF'] + df_test['LowQualFinSF'] + df_test['TotalBsmtSF'])\n",
    "#df_test['Age'] = 2018 - df_test.YearBuilt\n",
    "#df_test['RemoAge'] = 2018 - df_test.YearRemodAdd\n",
    "df_test.MSSubClass = df_test.MSSubClass.astype(str)\n",
    "df_test.YearBuilt = df_test.YearBuilt.astype(str)\n",
    "df_test.YearRemodAdd = df_test.YearRemodAdd.astype(str)\n",
    "#df_test.YrSold = df_test.YrSold.astype(str)\n",
    "df_test.MoSold = df_test.MoSold.astype(str)\n",
    "df_test.OverallQual = df_test.OverallQual.astype(str)\n",
    "df_test.OverallCond = df_test.OverallCond.astype(str)\n",
    "#df_test.Id = df_test.OverallCond.astype(str)\n",
    "df_test.TotalBath = (df_test.BsmtFullBath + df_test.FullBath) + ((df_test.BsmtHalfBath + df_test.HalfBath)*.5)\n"
   ]
  },
  {
   "cell_type": "code",
   "execution_count": 28,
   "metadata": {
    "scrolled": true
   },
   "outputs": [],
   "source": [
    "#df.select_dtypes(['number'])\n",
    "#df.select_dtypes(['object'])"
   ]
  },
  {
   "cell_type": "markdown",
   "metadata": {},
   "source": [
    "Tests 1-5 did not include Year Sold. Added back into data for Test 6 onward."
   ]
  },
  {
   "cell_type": "markdown",
   "metadata": {},
   "source": [
    "# Linear Regression Test, ALL NUMERIC FIELDS\n",
    "(score = 0.46468)"
   ]
  },
  {
   "cell_type": "code",
   "execution_count": 29,
   "metadata": {},
   "outputs": [],
   "source": [
    "# Begin Linear Regression DataFrames\n",
    "\n",
    "df_linear = df.select_dtypes(['number'])\n",
    "df_linear_test = df_test.select_dtypes(['number'])"
   ]
  },
  {
   "cell_type": "code",
   "execution_count": 30,
   "metadata": {},
   "outputs": [],
   "source": [
    "from sklearn.linear_model import LinearRegression\n",
    "from sklearn.metrics import accuracy_score, confusion_matrix, classification_report\n",
    "\n",
    "X_train = df_linear.drop('SalePrice', axis = 1)\n",
    "y_train = df_linear.SalePrice\n",
    "X_test = df_linear_test"
   ]
  },
  {
   "cell_type": "code",
   "execution_count": 31,
   "metadata": {},
   "outputs": [],
   "source": [
    "#train a model\n",
    "linear_model = LinearRegression().fit(X_train,y_train)\n",
    "\n",
    "#predict on training set\n",
    "predicted_y = linear_model.predict(X_test) "
   ]
  },
  {
   "cell_type": "code",
   "execution_count": 32,
   "metadata": {},
   "outputs": [],
   "source": [
    "df_submission_1 = df_test\n",
    "df_submission_1['SalePrice'] = predicted_y\n",
    "df_submission_1 = df_submission_1[['Id','SalePrice']]"
   ]
  },
  {
   "cell_type": "code",
   "execution_count": 33,
   "metadata": {},
   "outputs": [],
   "source": [
    "df_submission_1.to_csv('submission1.csv',index=False)"
   ]
  },
  {
   "cell_type": "markdown",
   "metadata": {},
   "source": [
    "# Linear Regression Test 2, minimal features\n",
    "Score = (0.20529)"
   ]
  },
  {
   "cell_type": "code",
   "execution_count": 34,
   "metadata": {},
   "outputs": [
    {
     "name": "stderr",
     "output_type": "stream",
     "text": [
      "C:\\ProgramData\\Anaconda3\\lib\\site-packages\\ipykernel_launcher.py:2: SettingWithCopyWarning: \n",
      "A value is trying to be set on a copy of a slice from a DataFrame\n",
      "\n",
      "See the caveats in the documentation: http://pandas.pydata.org/pandas-docs/stable/indexing.html#indexing-view-versus-copy\n",
      "  \n",
      "C:\\ProgramData\\Anaconda3\\lib\\site-packages\\ipykernel_launcher.py:4: SettingWithCopyWarning: \n",
      "A value is trying to be set on a copy of a slice from a DataFrame\n",
      "\n",
      "See the caveats in the documentation: http://pandas.pydata.org/pandas-docs/stable/indexing.html#indexing-view-versus-copy\n",
      "  after removing the cwd from sys.path.\n"
     ]
    }
   ],
   "source": [
    "df_linear_2 = df.select_dtypes(['number'])\n",
    "df_linear_2.drop(['MasVnrArea', 'FullBath','HalfBath','BsmtFinSF1', 'BsmtFinSF2', 'TotalBsmtSF', 'TotalBsmtSF', '1stFlrSF', '2ndFlrSF', 'LowQualFinSF','BsmtFullBath','BsmtHalfBath','BsmtUnfSF','PoolArea','MiscVal','ScreenPorch','3SsnPorch'], axis = 1, inplace = True)\n",
    "df_linear_test_2 = df_test.select_dtypes(['number'])\n",
    "df_linear_test_2.drop(['MasVnrArea', 'FullBath','HalfBath','BsmtFinSF1', 'BsmtFinSF2', 'TotalBsmtSF', 'TotalBsmtSF', '1stFlrSF', '2ndFlrSF', 'LowQualFinSF','BsmtFullBath','BsmtHalfBath','BsmtUnfSF','PoolArea','MiscVal','ScreenPorch','3SsnPorch'], axis = 1, inplace = True)\n",
    "\n"
   ]
  },
  {
   "cell_type": "code",
   "execution_count": 35,
   "metadata": {},
   "outputs": [
    {
     "data": {
      "text/plain": [
       "Id                 int64\n",
       "LotFrontage      float64\n",
       "LotArea            int64\n",
       "MasVnrArea       float64\n",
       "BsmtFinSF1         int64\n",
       "BsmtFinSF2         int64\n",
       "BsmtUnfSF          int64\n",
       "TotalBsmtSF        int64\n",
       "1stFlrSF           int64\n",
       "2ndFlrSF           int64\n",
       "LowQualFinSF       int64\n",
       "GrLivArea          int64\n",
       "BsmtFullBath       int64\n",
       "BsmtHalfBath       int64\n",
       "FullBath           int64\n",
       "HalfBath           int64\n",
       "BedroomAbvGr       int64\n",
       "KitchenAbvGr       int64\n",
       "TotRmsAbvGrd       int64\n",
       "Fireplaces         int64\n",
       "GarageCars         int64\n",
       "GarageArea         int64\n",
       "WoodDeckSF         int64\n",
       "OpenPorchSF        int64\n",
       "EnclosedPorch      int64\n",
       "3SsnPorch          int64\n",
       "ScreenPorch        int64\n",
       "PoolArea           int64\n",
       "MiscVal            int64\n",
       "YrSold             int64\n",
       "Total_sq           int64\n",
       "dtype: object"
      ]
     },
     "execution_count": 35,
     "metadata": {},
     "output_type": "execute_result"
    }
   ],
   "source": [
    "X_train.dtypes"
   ]
  },
  {
   "cell_type": "code",
   "execution_count": 36,
   "metadata": {},
   "outputs": [],
   "source": [
    "from sklearn.linear_model import LinearRegression\n",
    "from sklearn.metrics import accuracy_score, confusion_matrix, classification_report\n",
    "\n",
    "X_train = df_linear_2.drop('SalePrice', axis = 1)\n",
    "y_train = df_linear_2.SalePrice\n",
    "X_test = df_linear_test_2\n",
    "X_test = X_test.drop('SalePrice', axis = 1)  # have to drop Sale Price from X_test since reusing the same variable names from the first test"
   ]
  },
  {
   "cell_type": "code",
   "execution_count": 37,
   "metadata": {},
   "outputs": [],
   "source": [
    "#train a model\n",
    "linear_model = LinearRegression().fit(X_train,y_train)\n",
    "\n",
    "#predict on training set\n",
    "predicted_y = linear_model.predict(X_test) "
   ]
  },
  {
   "cell_type": "code",
   "execution_count": 38,
   "metadata": {},
   "outputs": [],
   "source": [
    "df_submission_2 = df_test\n",
    "df_submission_2['SalePrice'] = predicted_y\n",
    "df_submission_2 = df_submission_2[['Id','SalePrice']]"
   ]
  },
  {
   "cell_type": "code",
   "execution_count": 39,
   "metadata": {},
   "outputs": [],
   "source": [
    "df_submission_2.to_csv('submission2.csv',index=False)"
   ]
  },
  {
   "cell_type": "markdown",
   "metadata": {},
   "source": [
    "# Attempt 1 @ XGBoost"
   ]
  },
  {
   "cell_type": "code",
   "execution_count": 40,
   "metadata": {},
   "outputs": [],
   "source": [
    "from xgboost import XGBClassifier\n",
    "\n",
    "df_boost = df\n",
    "df_boost_test = df_test"
   ]
  },
  {
   "cell_type": "code",
   "execution_count": 41,
   "metadata": {},
   "outputs": [],
   "source": [
    "X_train = df_linear_2.drop('SalePrice', axis = 1)\n",
    "y_train = df_linear_2.SalePrice\n",
    "X_test = df_linear_test_2\n",
    "X_test = X_test.drop('SalePrice', axis = 1)  # have to drop Sale Price from X_test since reusing the same variable names from the first test"
   ]
  },
  {
   "cell_type": "code",
   "execution_count": 42,
   "metadata": {},
   "outputs": [
    {
     "data": {
      "text/plain": [
       "XGBClassifier(base_score=0.5, booster='gbtree', colsample_bylevel=1,\n",
       "       colsample_bytree=1, gamma=0, learning_rate=0.1, max_delta_step=0,\n",
       "       max_depth=3, min_child_weight=1, missing=None, n_estimators=100,\n",
       "       n_jobs=1, nthread=None, objective='multi:softprob', random_state=0,\n",
       "       reg_alpha=0, reg_lambda=1, scale_pos_weight=1, seed=None,\n",
       "       silent=True, subsample=1)"
      ]
     },
     "execution_count": 42,
     "metadata": {},
     "output_type": "execute_result"
    }
   ],
   "source": [
    "model = XGBClassifier()\n",
    "model.fit(X_train, y_train)"
   ]
  },
  {
   "cell_type": "code",
   "execution_count": 43,
   "metadata": {},
   "outputs": [
    {
     "name": "stderr",
     "output_type": "stream",
     "text": [
      "C:\\ProgramData\\Anaconda3\\lib\\site-packages\\sklearn\\preprocessing\\label.py:151: DeprecationWarning: The truth value of an empty array is ambiguous. Returning False, but in future this will result in an error. Use `array.size > 0` to check that an array is not empty.\n",
      "  if diff:\n"
     ]
    }
   ],
   "source": [
    "y_pred = model.predict(X_test)\n",
    "predictions = [value for value in y_pred]"
   ]
  },
  {
   "cell_type": "code",
   "execution_count": null,
   "metadata": {},
   "outputs": [],
   "source": []
  },
  {
   "cell_type": "code",
   "execution_count": 44,
   "metadata": {},
   "outputs": [],
   "source": [
    "df_submission_3 = df_test\n",
    "df_submission_3['SalePrice'] = predictions\n",
    "df_submission_3 = df_submission_3[['Id','SalePrice']]"
   ]
  },
  {
   "cell_type": "code",
   "execution_count": 45,
   "metadata": {},
   "outputs": [],
   "source": [
    "df_submission_3.to_csv('submission3.csv',index=False)"
   ]
  },
  {
   "cell_type": "markdown",
   "metadata": {},
   "source": [
    "# Pass #4, remove poorly correlated data, run RandomForest\n",
    "(score = .262222)"
   ]
  },
  {
   "cell_type": "code",
   "execution_count": 46,
   "metadata": {
    "scrolled": true
   },
   "outputs": [
    {
     "data": {
      "text/plain": [
       "<matplotlib.axes._subplots.AxesSubplot at 0x21cc2b5ac50>"
      ]
     },
     "execution_count": 46,
     "metadata": {},
     "output_type": "execute_result"
    },
    {
     "data": {
      "image/png": "[encoded data removed]",
      "text/plain": [
       "<matplotlib.figure.Figure at 0x21cc2b5b630>"
      ]
     },
     "metadata": {},
     "output_type": "display_data"
    }
   ],
   "source": [
    "# correlation matrix\n",
    "sns.heatmap(df_linear_2.corr(), square=True, cmap='RdYlGn')"
   ]
  },
  {
   "cell_type": "code",
   "execution_count": 47,
   "metadata": {},
   "outputs": [
    {
     "name": "stderr",
     "output_type": "stream",
     "text": [
      "C:\\ProgramData\\Anaconda3\\lib\\site-packages\\ipykernel_launcher.py:1: SettingWithCopyWarning: \n",
      "A value is trying to be set on a copy of a slice from a DataFrame\n",
      "\n",
      "See the caveats in the documentation: http://pandas.pydata.org/pandas-docs/stable/indexing.html#indexing-view-versus-copy\n",
      "  \"\"\"Entry point for launching an IPython kernel.\n",
      "C:\\ProgramData\\Anaconda3\\lib\\site-packages\\ipykernel_launcher.py:2: SettingWithCopyWarning: \n",
      "A value is trying to be set on a copy of a slice from a DataFrame\n",
      "\n",
      "See the caveats in the documentation: http://pandas.pydata.org/pandas-docs/stable/indexing.html#indexing-view-versus-copy\n",
      "  \n"
     ]
    }
   ],
   "source": [
    "df_linear_2.drop(['EnclosedPorch','KitchenAbvGr','BedroomAbvGr','WoodDeckSF','OpenPorchSF','LotArea','LotFrontage','Id'], axis = 1, inplace=True)\n",
    "df_linear_test_2.drop(['EnclosedPorch','KitchenAbvGr','BedroomAbvGr','WoodDeckSF','OpenPorchSF','LotArea','LotFrontage','Id'], axis = 1, inplace=True)"
   ]
  },
  {
   "cell_type": "code",
   "execution_count": 48,
   "metadata": {},
   "outputs": [],
   "source": [
    "X_train = df_linear_2.drop('SalePrice', axis = 1)\n",
    "y_train = df_linear_2.SalePrice\n",
    "X_test = df_linear_test_2\n",
    "X_test = X_test.drop('SalePrice', axis = 1)  # have to drop Sale Price from X_test since reusing the same variable names from the first test"
   ]
  },
  {
   "cell_type": "code",
   "execution_count": 49,
   "metadata": {},
   "outputs": [
    {
     "data": {
      "text/plain": [
       "RandomForestClassifier(bootstrap=True, class_weight=None, criterion='gini',\n",
       "            max_depth=None, max_features='auto', max_leaf_nodes=None,\n",
       "            min_impurity_decrease=0.0, min_impurity_split=None,\n",
       "            min_samples_leaf=1, min_samples_split=2,\n",
       "            min_weight_fraction_leaf=0.0, n_estimators=100, n_jobs=1,\n",
       "            oob_score=True, random_state=123456, verbose=0,\n",
       "            warm_start=False)"
      ]
     },
     "execution_count": 49,
     "metadata": {},
     "output_type": "execute_result"
    }
   ],
   "source": [
    "from sklearn.ensemble import RandomForestClassifier\n",
    "\n",
    "rf = RandomForestClassifier(n_estimators=100, oob_score=True, random_state=123456)\n",
    "rf.fit(X_train, y_train)\n"
   ]
  },
  {
   "cell_type": "code",
   "execution_count": 50,
   "metadata": {},
   "outputs": [],
   "source": [
    "y_pred = rf.predict(X_test)\n",
    "predictions = [value for value in y_pred]"
   ]
  },
  {
   "cell_type": "code",
   "execution_count": 51,
   "metadata": {},
   "outputs": [],
   "source": [
    "df_submission_4 = df_test\n",
    "df_submission_4['SalePrice'] = predictions\n",
    "df_submission_4 = df_submission_4[['Id','SalePrice']]"
   ]
  },
  {
   "cell_type": "code",
   "execution_count": 52,
   "metadata": {},
   "outputs": [],
   "source": [
    "df_submission_4.to_csv('submission4_rf.csv',index=False)"
   ]
  },
  {
   "cell_type": "markdown",
   "metadata": {},
   "source": [
    "# Rerunning XGBoost with new df, 6 features\n",
    "(score = .25120)"
   ]
  },
  {
   "cell_type": "code",
   "execution_count": 53,
   "metadata": {},
   "outputs": [
    {
     "name": "stderr",
     "output_type": "stream",
     "text": [
      "C:\\ProgramData\\Anaconda3\\lib\\site-packages\\sklearn\\preprocessing\\label.py:151: DeprecationWarning: The truth value of an empty array is ambiguous. Returning False, but in future this will result in an error. Use `array.size > 0` to check that an array is not empty.\n",
      "  if diff:\n"
     ]
    }
   ],
   "source": [
    "X_train = df_linear_2.drop('SalePrice', axis = 1)\n",
    "y_train = df_linear_2.SalePrice\n",
    "X_test = df_linear_test_2\n",
    "X_test = X_test.drop('SalePrice', axis = 1)  # have to drop Sale Price from X_test since reusing the same variable names from the first test\n",
    "\n",
    "model = XGBClassifier()\n",
    "model.fit(X_train, y_train)\n",
    "\n",
    "y_pred = model.predict(X_test)\n",
    "predictions = [value for value in y_pred]\n",
    "\n",
    "df_submission_5_post_rf = df_test\n",
    "df_submission_5_post_rf['SalePrice'] = predictions\n",
    "df_submission_5_post_rf = df_submission_5_post_rf[['Id','SalePrice']]\n",
    "df_submission_5_post_rf.to_csv('submission_5_post_rf.csv',index=False)"
   ]
  },
  {
   "cell_type": "markdown",
   "metadata": {},
   "source": [
    "# back to basics"
   ]
  },
  {
   "cell_type": "code",
   "execution_count": 54,
   "metadata": {},
   "outputs": [
    {
     "name": "stderr",
     "output_type": "stream",
     "text": [
      "C:\\ProgramData\\Anaconda3\\lib\\site-packages\\ipykernel_launcher.py:2: SettingWithCopyWarning: \n",
      "A value is trying to be set on a copy of a slice from a DataFrame\n",
      "\n",
      "See the caveats in the documentation: http://pandas.pydata.org/pandas-docs/stable/indexing.html#indexing-view-versus-copy\n",
      "  \n",
      "C:\\ProgramData\\Anaconda3\\lib\\site-packages\\ipykernel_launcher.py:4: SettingWithCopyWarning: \n",
      "A value is trying to be set on a copy of a slice from a DataFrame\n",
      "\n",
      "See the caveats in the documentation: http://pandas.pydata.org/pandas-docs/stable/indexing.html#indexing-view-versus-copy\n",
      "  after removing the cwd from sys.path.\n"
     ]
    }
   ],
   "source": [
    "df_linear_3 = df.select_dtypes(['number'])\n",
    "df_linear_3.drop(['MasVnrArea', 'FullBath','HalfBath','BsmtFinSF1', 'BsmtFinSF2', 'TotalBsmtSF', 'TotalBsmtSF', '1stFlrSF', '2ndFlrSF', 'LowQualFinSF','BsmtFullBath','BsmtHalfBath','BsmtUnfSF','PoolArea','MiscVal','ScreenPorch','3SsnPorch'], axis = 1, inplace = True)\n",
    "df_linear_test_3 = df_test.select_dtypes(['number'])\n",
    "df_linear_test_3.drop(['MasVnrArea', 'FullBath','HalfBath','BsmtFinSF1', 'BsmtFinSF2', 'TotalBsmtSF', 'TotalBsmtSF', '1stFlrSF', '2ndFlrSF', 'LowQualFinSF','BsmtFullBath','BsmtHalfBath','BsmtUnfSF','PoolArea','MiscVal','ScreenPorch','3SsnPorch'], axis = 1, inplace = True)"
   ]
  },
  {
   "cell_type": "code",
   "execution_count": 55,
   "metadata": {},
   "outputs": [
    {
     "name": "stderr",
     "output_type": "stream",
     "text": [
      "C:\\ProgramData\\Anaconda3\\lib\\site-packages\\ipykernel_launcher.py:1: SettingWithCopyWarning: \n",
      "A value is trying to be set on a copy of a slice from a DataFrame.\n",
      "Try using .loc[row_indexer,col_indexer] = value instead\n",
      "\n",
      "See the caveats in the documentation: http://pandas.pydata.org/pandas-docs/stable/indexing.html#indexing-view-versus-copy\n",
      "  \"\"\"Entry point for launching an IPython kernel.\n",
      "C:\\ProgramData\\Anaconda3\\lib\\site-packages\\ipykernel_launcher.py:2: SettingWithCopyWarning: \n",
      "A value is trying to be set on a copy of a slice from a DataFrame.\n",
      "Try using .loc[row_indexer,col_indexer] = value instead\n",
      "\n",
      "See the caveats in the documentation: http://pandas.pydata.org/pandas-docs/stable/indexing.html#indexing-view-versus-copy\n",
      "  \n",
      "C:\\ProgramData\\Anaconda3\\lib\\site-packages\\ipykernel_launcher.py:4: SettingWithCopyWarning: \n",
      "A value is trying to be set on a copy of a slice from a DataFrame.\n",
      "Try using .loc[row_indexer,col_indexer] = value instead\n",
      "\n",
      "See the caveats in the documentation: http://pandas.pydata.org/pandas-docs/stable/indexing.html#indexing-view-versus-copy\n",
      "  after removing the cwd from sys.path.\n",
      "C:\\ProgramData\\Anaconda3\\lib\\site-packages\\ipykernel_launcher.py:7: SettingWithCopyWarning: \n",
      "A value is trying to be set on a copy of a slice from a DataFrame\n",
      "\n",
      "See the caveats in the documentation: http://pandas.pydata.org/pandas-docs/stable/indexing.html#indexing-view-versus-copy\n",
      "  import sys\n"
     ]
    }
   ],
   "source": [
    "df_linear_3['Neighborhood'] = df.Neighborhood\n",
    "df_linear_test_3['Neighborhood'] = df_test.Neighborhood\n",
    "\n",
    "df_linear_3['DollarPerSqFt'] = (df_linear_3.SalePrice/df_linear_3.Total_sq)\n",
    "\n",
    "DollarPerHood = df_linear_3.groupby(['Neighborhood','YrSold'])['DollarPerSqFt'].mean().reset_index()\n",
    "df_linear_3.drop('DollarPerSqFt', axis = 1, inplace=True)"
   ]
  },
  {
   "cell_type": "code",
   "execution_count": 56,
   "metadata": {},
   "outputs": [],
   "source": [
    "df_linear_3 = pd.merge(df_linear_3, DollarPerHood, how='left', on=['Neighborhood', 'YrSold'])\n",
    "df_linear_test_3 = pd.merge(df_linear_test_3, DollarPerHood, how='left', on=['Neighborhood', 'YrSold'])\n",
    "\n",
    "df_linear_3.drop('Neighborhood', axis = 1, inplace=True)\n",
    "df_linear_test_3.drop('Neighborhood', axis = 1, inplace=True)"
   ]
  },
  {
   "cell_type": "code",
   "execution_count": 57,
   "metadata": {},
   "outputs": [],
   "source": [
    "df_linear_test_3.DollarPerSqFt.fillna(df_linear_test_3.DollarPerSqFt.median(), inplace=True)"
   ]
  },
  {
   "cell_type": "code",
   "execution_count": 58,
   "metadata": {},
   "outputs": [],
   "source": [
    "X_train = df_linear_3.drop('SalePrice', axis = 1)\n",
    "y_train = df_linear_3.SalePrice\n",
    "X_test = df_linear_test_3\n",
    "X_test = X_test.drop('SalePrice', axis = 1)  # have to drop Sale Price from X_test since reusing the same variable names from the first test"
   ]
  },
  {
   "cell_type": "code",
   "execution_count": 59,
   "metadata": {},
   "outputs": [
    {
     "data": {
      "text/plain": [
       "RandomForestClassifier(bootstrap=True, class_weight=None, criterion='gini',\n",
       "            max_depth=None, max_features='auto', max_leaf_nodes=None,\n",
       "            min_impurity_decrease=0.0, min_impurity_split=None,\n",
       "            min_samples_leaf=1, min_samples_split=2,\n",
       "            min_weight_fraction_leaf=0.0, n_estimators=100, n_jobs=1,\n",
       "            oob_score=True, random_state=123456, verbose=0,\n",
       "            warm_start=False)"
      ]
     },
     "execution_count": 59,
     "metadata": {},
     "output_type": "execute_result"
    }
   ],
   "source": [
    "from sklearn.ensemble import RandomForestClassifier\n",
    "\n",
    "rf = RandomForestClassifier(n_estimators=100, oob_score=True, random_state=123456)\n",
    "rf.fit(X_train, y_train)\n"
   ]
  },
  {
   "cell_type": "code",
   "execution_count": 60,
   "metadata": {},
   "outputs": [],
   "source": [
    "y_pred = rf.predict(X_test)\n",
    "predictions = [value for value in y_pred]"
   ]
  },
  {
   "cell_type": "code",
   "execution_count": 61,
   "metadata": {},
   "outputs": [],
   "source": [
    "df_submission_6 = df_test\n",
    "df_submission_6['SalePrice'] = predictions\n",
    "df_submission_6 = df_submission_6[['Id','SalePrice']]\n",
    "df_submission_6.to_csv('submission6_rf.csv',index=False)"
   ]
  },
  {
   "cell_type": "markdown",
   "metadata": {},
   "source": [
    "# Linear Regression, test 7"
   ]
  },
  {
   "cell_type": "code",
   "execution_count": 62,
   "metadata": {},
   "outputs": [],
   "source": [
    "X_train = df_linear_3.drop('SalePrice', axis = 1)\n",
    "y_train = df_linear_3.SalePrice\n",
    "X_test = df_linear_test_3\n",
    "X_test = X_test.drop('SalePrice', axis = 1)  # have to drop Sale Price from X_test since reusing the same variable names from the first test"
   ]
  },
  {
   "cell_type": "code",
   "execution_count": 63,
   "metadata": {},
   "outputs": [],
   "source": [
    "linear_model = LinearRegression().fit(X_train,y_train)\n",
    "predicted_y = linear_model.predict(X_test) \n",
    "\n",
    "df_submission_7 = df_test\n",
    "df_submission_7['SalePrice'] = predicted_y\n",
    "df_submission_7 = df_submission_7[['Id','SalePrice']]"
   ]
  },
  {
   "cell_type": "code",
   "execution_count": 64,
   "metadata": {},
   "outputs": [],
   "source": [
    "df_submission_7.to_csv('submission7_linear.csv',index=False)"
   ]
  },
  {
   "cell_type": "markdown",
   "metadata": {},
   "source": [
    "# Label Encoder"
   ]
  },
  {
   "cell_type": "code",
   "execution_count": 65,
   "metadata": {},
   "outputs": [],
   "source": [
    "from sklearn.preprocessing import LabelEncoder\n"
   ]
  },
  {
   "cell_type": "code",
   "execution_count": 66,
   "metadata": {},
   "outputs": [],
   "source": [
    "str_column_names = df.select_dtypes(['object'])\n",
    "#str_column_names = df.dtypes.index\n",
    "df_encoded = df\n",
    "df_encoded_test = df_test"
   ]
  },
  {
   "cell_type": "code",
   "execution_count": 67,
   "metadata": {},
   "outputs": [],
   "source": [
    "for i in str_column_names:\n",
    "    lbl = LabelEncoder() \n",
    "    lbl.fit(list(df_encoded[i].values)) \n",
    "    df_encoded[i] = lbl.transform(list(df_encoded[i].values))"
   ]
  },
  {
   "cell_type": "code",
   "execution_count": 68,
   "metadata": {},
   "outputs": [],
   "source": [
    "for i in str_column_names:\n",
    "    lbl = LabelEncoder() \n",
    "    lbl.fit(list(df_encoded_test[i].values)) \n",
    "    df_encoded_test[i] = lbl.transform(list(df_encoded_test[i].values))"
   ]
  },
  {
   "cell_type": "code",
   "execution_count": 69,
   "metadata": {},
   "outputs": [],
   "source": [
    "X_train = df_encoded.drop('SalePrice', axis = 1)\n",
    "y_train = df_encoded.SalePrice\n",
    "X_test = df_encoded_test\n",
    "X_test = X_test.drop('SalePrice', axis = 1)  # have to drop Sale Price from X_test since reusing the same variable names from the first test"
   ]
  },
  {
   "cell_type": "code",
   "execution_count": 70,
   "metadata": {},
   "outputs": [],
   "source": [
    "linear_model = LinearRegression().fit(X_train,y_train)\n",
    "predicted_y = linear_model.predict(X_test) \n",
    "\n",
    "df_submission_8 = df_test\n",
    "df_submission_8['SalePrice'] = predicted_y\n",
    "df_submission_8 = df_submission_8[['Id','SalePrice']]"
   ]
  },
  {
   "cell_type": "code",
   "execution_count": 71,
   "metadata": {},
   "outputs": [],
   "source": [
    "df_submission_8.to_csv('submission8_linear.csv',index=False)"
   ]
  },
  {
   "cell_type": "markdown",
   "metadata": {},
   "source": [
    "# Top 15 dummies\n",
    "(score = 0.19178) - best so far"
   ]
  },
  {
   "cell_type": "code",
   "execution_count": 72,
   "metadata": {},
   "outputs": [],
   "source": [
    "df_dummies = pd.get_dummies(df)\n",
    "df_dummies_test = pd.get_dummies(df_test)"
   ]
  },
  {
   "cell_type": "code",
   "execution_count": 73,
   "metadata": {},
   "outputs": [],
   "source": [
    "i = df_dummies.corr()\n",
    "\n",
    "s = i.unstack()\n",
    "so = s.sort_values(kind=\"quicksort\")"
   ]
  },
  {
   "cell_type": "code",
   "execution_count": 74,
   "metadata": {},
   "outputs": [],
   "source": [
    "i = df_dummies_test.corr()\n",
    "\n",
    "s = i.unstack()\n",
    "so_test = s.sort_values(kind=\"quicksort\")"
   ]
  },
  {
   "cell_type": "code",
   "execution_count": 78,
   "metadata": {},
   "outputs": [],
   "source": [
    "top15 = so.SalePrice.tail(15).index.tolist()"
   ]
  },
  {
   "cell_type": "code",
   "execution_count": 79,
   "metadata": {},
   "outputs": [
    {
     "data": {
      "text/plain": [
       "['BsmtFinSF1',\n",
       " 'Fireplaces',\n",
       " 'MasVnrArea',\n",
       " 'YearRemodAdd',\n",
       " 'OverallQual',\n",
       " 'TotRmsAbvGrd',\n",
       " 'YearBuilt',\n",
       " 'FullBath',\n",
       " '1stFlrSF',\n",
       " 'TotalBsmtSF',\n",
       " 'GarageArea',\n",
       " 'GarageCars',\n",
       " 'GrLivArea',\n",
       " 'Total_sq',\n",
       " 'SalePrice']"
      ]
     },
     "execution_count": 79,
     "metadata": {},
     "output_type": "execute_result"
    }
   ],
   "source": [
    "top15"
   ]
  },
  {
   "cell_type": "code",
   "execution_count": 81,
   "metadata": {},
   "outputs": [],
   "source": [
    "df_dummies = df_dummies[top15]"
   ]
  },
  {
   "cell_type": "code",
   "execution_count": 83,
   "metadata": {},
   "outputs": [],
   "source": [
    "df_dummies_test = df_dummies_test[top15]"
   ]
  },
  {
   "cell_type": "code",
   "execution_count": 97,
   "metadata": {},
   "outputs": [
    {
     "data": {
      "text/plain": [
       "(1460, 15)"
      ]
     },
     "execution_count": 97,
     "metadata": {},
     "output_type": "execute_result"
    }
   ],
   "source": [
    "df_dummies.shape"
   ]
  },
  {
   "cell_type": "code",
   "execution_count": 94,
   "metadata": {
    "scrolled": false
   },
   "outputs": [
    {
     "data": {
      "text/plain": [
       "BsmtFinSF1      0\n",
       "Fireplaces      0\n",
       "MasVnrArea      0\n",
       "YearRemodAdd    0\n",
       "OverallQual     0\n",
       "dtype: int64"
      ]
     },
     "execution_count": 94,
     "metadata": {},
     "output_type": "execute_result"
    }
   ],
   "source": [
    "df_dummies_test.isnull().sum().head(5)"
   ]
  },
  {
   "cell_type": "code",
   "execution_count": 95,
   "metadata": {},
   "outputs": [
    {
     "data": {
      "text/plain": [
       "BsmtFinSF1      0\n",
       "Fireplaces      0\n",
       "MasVnrArea      0\n",
       "YearRemodAdd    0\n",
       "OverallQual     0\n",
       "dtype: int64"
      ]
     },
     "execution_count": 95,
     "metadata": {},
     "output_type": "execute_result"
    }
   ],
   "source": [
    "df_dummies.isnull().sum().head(5)"
   ]
  },
  {
   "cell_type": "code",
   "execution_count": 88,
   "metadata": {},
   "outputs": [
    {
     "data": {
      "text/plain": [
       "'df_dummies.GarageYrBlt.fillna(df_dummies.GarageYrBlt.median(), inplace=True)\\ndf_dummies_test.GarageYrBlt.fillna(df_dummies_test.GarageYrBlt.median(), inplace=True)\\ndf_dummies_test.TotalBsmtSF.fillna(df_dummies_test.TotalBsmtSF.median(), inplace=True)\\ndf_dummies_test.GarageArea.fillna(df_dummies_test.GarageArea.median(), inplace=True)\\ndf_dummies_test.GarageCars.fillna(df_dummies_test.GarageCars.median(), inplace=True)'"
      ]
     },
     "execution_count": 88,
     "metadata": {},
     "output_type": "execute_result"
    }
   ],
   "source": [
    "'''df_dummies.GarageYrBlt.fillna(df_dummies.GarageYrBlt.median(), inplace=True)\n",
    "df_dummies_test.GarageYrBlt.fillna(df_dummies_test.GarageYrBlt.median(), inplace=True)\n",
    "df_dummies_test.TotalBsmtSF.fillna(df_dummies_test.TotalBsmtSF.median(), inplace=True)\n",
    "df_dummies_test.GarageArea.fillna(df_dummies_test.GarageArea.median(), inplace=True)\n",
    "df_dummies_test.GarageCars.fillna(df_dummies_test.GarageCars.median(), inplace=True)'''"
   ]
  },
  {
   "cell_type": "code",
   "execution_count": 99,
   "metadata": {},
   "outputs": [],
   "source": [
    "X_train = df_dummies.drop('SalePrice', axis = 1)\n",
    "y_train = df_dummies.SalePrice\n",
    "X_test = df_dummies_test\n",
    "X_test = X_test.drop('SalePrice', axis = 1)  # have to drop Sale Price from X_test since reusing the same variable names from the first test"
   ]
  },
  {
   "cell_type": "code",
   "execution_count": 100,
   "metadata": {},
   "outputs": [],
   "source": [
    "linear_model = LinearRegression().fit(X_train,y_train)\n",
    "predicted_y = linear_model.predict(X_test) \n",
    "\n",
    "df_submission_9 = df_test\n",
    "df_submission_9['SalePrice'] = predicted_y\n",
    "df_submission_9 = df_submission_9[['Id','SalePrice']]"
   ]
  },
  {
   "cell_type": "code",
   "execution_count": null,
   "metadata": {},
   "outputs": [],
   "source": [
    "df_submission_9.to_csv('submission9_linear_dummies.csv',index=False)"
   ]
  },
  {
   "cell_type": "code",
   "execution_count": 101,
   "metadata": {},
   "outputs": [],
   "source": [
    "from sklearn.ensemble import RandomForestClassifier\n",
    "\n",
    "rf = RandomForestClassifier(n_estimators=100, oob_score=True, random_state=123456)\n",
    "rf.fit(X_train, y_train)\n",
    "\n",
    "y_pred = rf.predict(X_test)\n",
    "predictions = [value for value in y_pred]\n",
    "\n",
    "df_submission_10_rf = df_test\n",
    "df_submission_10_rf['SalePrice'] = predictions\n",
    "df_submission_10_rf = df_submission_10_rf[['Id','SalePrice']]\n",
    "df_submission_10_rf.to_csv('df_submission_10_rf.csv',index=False)"
   ]
  },
  {
   "cell_type": "markdown",
   "metadata": {},
   "source": [
    "# linear with top 7 correlations"
   ]
  },
  {
   "cell_type": "code",
   "execution_count": 102,
   "metadata": {},
   "outputs": [],
   "source": [
    "df_dummies = pd.get_dummies(df)\n",
    "df_dummies_test = pd.get_dummies(df_test)"
   ]
  },
  {
   "cell_type": "code",
   "execution_count": 128,
   "metadata": {},
   "outputs": [],
   "source": [
    "i = df_dummies.corr()\n",
    "\n",
    "s = i.unstack()\n",
    "so = s.sort_values(kind=\"quicksort\")"
   ]
  },
  {
   "cell_type": "code",
   "execution_count": 133,
   "metadata": {},
   "outputs": [],
   "source": [
    "top45 = so.SalePrice.tail(45).index.tolist()\n",
    "df_dummies = df_dummies[top45]\n",
    "df_dummies_test = df_dummies_test[top45]\n",
    "df_dummies_test.shape"
   ]
  },
  {
   "cell_type": "code",
   "execution_count": 137,
   "metadata": {},
   "outputs": [
    {
     "data": {
      "text/plain": [
       "(1460, 45)"
      ]
     },
     "execution_count": 137,
     "metadata": {},
     "output_type": "execute_result"
    }
   ],
   "source": [
    "df_dummies.shape"
   ]
  },
  {
   "cell_type": "code",
   "execution_count": 140,
   "metadata": {},
   "outputs": [],
   "source": [
    "X_train = df_dummies.drop('SalePrice', axis = 1)\n",
    "y_train = df_dummies.SalePrice\n",
    "X_test = df_dummies_test\n",
    "X_test = X_test.drop('SalePrice', axis = 1)  # have to drop Sale Price from X_test since reusing the same variable names from the first test"
   ]
  },
  {
   "cell_type": "code",
   "execution_count": 141,
   "metadata": {},
   "outputs": [],
   "source": [
    "linear_model = LinearRegression().fit(X_train,y_train)\n",
    "predicted_y = linear_model.predict(X_test) \n",
    "\n",
    "df_submission_11 = df_test\n",
    "df_submission_11['SalePrice'] = predicted_y\n",
    "df_submission_11 = df_submission_11[['Id','SalePrice']]"
   ]
  },
  {
   "cell_type": "code",
   "execution_count": 143,
   "metadata": {},
   "outputs": [],
   "source": [
    "df_submission_11.to_csv('submission11_linear_dummies.csv',index=False)"
   ]
  },
  {
   "cell_type": "markdown",
   "metadata": {},
   "source": [
    "# Ridge"
   ]
  },
  {
   "cell_type": "code",
   "execution_count": 151,
   "metadata": {},
   "outputs": [],
   "source": [
    "df_dummies = pd.get_dummies(df)\n",
    "df_dummies_test = pd.get_dummies(df_test)"
   ]
  },
  {
   "cell_type": "code",
   "execution_count": 152,
   "metadata": {},
   "outputs": [],
   "source": [
    "i = df_dummies.corr()\n",
    "\n",
    "s = i.unstack()\n",
    "so = s.sort_values(kind=\"quicksort\")"
   ]
  },
  {
   "cell_type": "code",
   "execution_count": 153,
   "metadata": {},
   "outputs": [
    {
     "data": {
      "text/plain": [
       "(1459, 25)"
      ]
     },
     "execution_count": 153,
     "metadata": {},
     "output_type": "execute_result"
    }
   ],
   "source": [
    "top45 = so.SalePrice.tail(25).index.tolist()\n",
    "df_dummies = df_dummies[top45]\n",
    "df_dummies_test = df_dummies_test[top45]\n",
    "df_dummies_test.shape"
   ]
  },
  {
   "cell_type": "code",
   "execution_count": 154,
   "metadata": {},
   "outputs": [
    {
     "data": {
      "text/plain": [
       "(1460, 25)"
      ]
     },
     "execution_count": 154,
     "metadata": {},
     "output_type": "execute_result"
    }
   ],
   "source": [
    "df_dummies.shape"
   ]
  },
  {
   "cell_type": "code",
   "execution_count": 155,
   "metadata": {},
   "outputs": [],
   "source": [
    "from sklearn.linear_model import Ridge\n",
    "\n",
    "X_train = df_dummies.drop('SalePrice', axis = 1)\n",
    "y_train = df_dummies.SalePrice\n",
    "X_test = df_dummies_test\n",
    "X_test = X_test.drop('SalePrice', axis = 1)  # have to drop Sale Price from X_test since reusing the same variable names from the first test\n"
   ]
  },
  {
   "cell_type": "code",
   "execution_count": 156,
   "metadata": {},
   "outputs": [],
   "source": [
    "ridge = Ridge(alpha=0.1, normalize=True)\n",
    "ridge.fit(X_train, y_train)\n",
    "ridge_pred = ridge.predict(X_test)\n",
    "\n",
    "df_submission_12 = df_test\n",
    "df_submission_12['SalePrice'] = predicted_y\n",
    "df_submission_12 = df_submission_12[['Id','SalePrice']]"
   ]
  },
  {
   "cell_type": "code",
   "execution_count": 157,
   "metadata": {},
   "outputs": [],
   "source": [
    "df_submission_12.to_csv('submission12_ridge_dummies.csv',index=False)"
   ]
  },
  {
   "cell_type": "code",
   "execution_count": null,
   "metadata": {},
   "outputs": [],
   "source": []
  },
  {
   "cell_type": "code",
   "execution_count": null,
   "metadata": {},
   "outputs": [],
   "source": []
  },
  {
   "cell_type": "code",
   "execution_count": null,
   "metadata": {},
   "outputs": [],
   "source": []
  },
  {
   "cell_type": "code",
   "execution_count": null,
   "metadata": {},
   "outputs": [],
   "source": [
    "#df_matrix = df[['ExterQual','ExterCond','BsmtQual','BsmtCond','BsmtExposure','BsmtFinType1','BsmtFinType2','HeatingQC','KitchenQual','FireplaceQu','GarageQual','GarageCond']]"
   ]
  },
  {
   "cell_type": "code",
   "execution_count": null,
   "metadata": {},
   "outputs": [],
   "source": [
    "#df_sq_ft = df[['1stFlrSF','2ndFlrSF','LowQualFinSF','GrLivArea','TotalBsmtSF','SalePrice','BsmtExposure']]\n",
    "#df_sq_ft['Total_sq'] = (df_sq_ft['1stFlrSF'] + df_sq_ft['2ndFlrSF'] + df_sq_ft['LowQualFinSF'] + df_sq_ft['TotalBsmtSF'])"
   ]
  },
  {
   "cell_type": "code",
   "execution_count": null,
   "metadata": {},
   "outputs": [],
   "source": [
    "''''ExterQual'\n",
    "'ExterCond'\n",
    "'BsmtQual'\n",
    "'BsmtCond'\n",
    "'BsmtExposure'\n",
    "'BsmtFinType1'\n",
    "'BsmtFinType2'\n",
    "'HeatingQC'\n",
    "'KitchenQual'\n",
    "'FireplaceQu'\n",
    "'GarageQual'\n",
    "'GarageCond'\n",
    "\n",
    "df_matrix.head()'''\n"
   ]
  },
  {
   "cell_type": "code",
   "execution_count": null,
   "metadata": {},
   "outputs": [],
   "source": [
    "'''le = preprocessing.LabelEncoder()\n",
    "le.fit(df_matrix.ExterQual)\n",
    "df_matrix.ExterQual = le.transform(df_matrix.ExterQual)\n",
    "df.ExterQual.value_counts()'''"
   ]
  },
  {
   "cell_type": "code",
   "execution_count": null,
   "metadata": {},
   "outputs": [],
   "source": [
    "#df_matrix.ExterQual.value_counts()"
   ]
  },
  {
   "cell_type": "code",
   "execution_count": null,
   "metadata": {},
   "outputs": [],
   "source": [
    "'''df_matrix.ExterQualNum = df_matrix.ExterQual.map({\n",
    "    'Ex': 5,\n",
    "    'Gd': 4,\n",
    "    'TA': 3,\n",
    "    'Fa': 2,\n",
    "    'Po': 1,\n",
    "    'NA': 0})\n",
    "df_matrix.ExterQual.value_counts()'''"
   ]
  },
  {
   "cell_type": "code",
   "execution_count": null,
   "metadata": {},
   "outputs": [],
   "source": [
    "#from sklearn.preprocessing import CategoricalEncoder\n",
    "#enc = CategoricalEncoder(handle_unknown='ignore')\n",
    "#X = [['Ex', 5], ['Gd', 4], ['TA', 3], ['Fa', 2], ['Po', 1], ['NA', 0]]\n",
    "#enc.fit(X)"
   ]
  },
  {
   "cell_type": "code",
   "execution_count": null,
   "metadata": {},
   "outputs": [],
   "source": []
  },
  {
   "cell_type": "code",
   "execution_count": null,
   "metadata": {},
   "outputs": [],
   "source": []
  }
 ],
 "metadata": {
  "kernelspec": {
   "display_name": "Python 3",
   "language": "python",
   "name": "python3"
  },
  "language_info": {
   "codemirror_mode": {
    "name": "ipython",
    "version": 3
   },
   "file_extension": ".py",
   "mimetype": "text/x-python",
   "name": "python",
   "nbconvert_exporter": "python",
   "pygments_lexer": "ipython3",
   "version": "3.6.4"
  }
 },
 "nbformat": 4,
 "nbformat_minor": 2
}
