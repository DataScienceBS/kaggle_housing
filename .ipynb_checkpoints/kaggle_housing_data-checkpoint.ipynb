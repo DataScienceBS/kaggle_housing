{
 "cells": [
  {
   "cell_type": "markdown",
   "metadata": {},
   "source": [
    "# NSS_Lions_and_Lioness"
   ]
  },
  {
   "cell_type": "markdown",
   "metadata": {},
   "source": [
    "```SalePrice - the property's sale price in dollars. This is the target variable that you're trying to predict.\n",
    "MSSubClass: The building class\n",
    "MSZoning: The general zoning classification\n",
    "LotFrontage: Linear feet of street connected to property\n",
    "LotArea: Lot size in square feet\n",
    "Street: Type of road access\n",
    "Alley: Type of alley access\n",
    "LotShape: General shape of property\n",
    "LandContour: Flatness of the property\n",
    "Utilities: Type of utilities available\n",
    "LotConfig: Lot configuration\n",
    "LandSlope: Slope of property\n",
    "Neighborhood: Physical locations within Ames city limits\n",
    "Condition1: Proximity to main road or railroad\n",
    "Condition2: Proximity to main road or railroad (if a second is present)\n",
    "BldgType: Type of dwelling\n",
    "HouseStyle: Style of dwelling\n",
    "OverallQual: Overall material and finish quality\n",
    "OverallCond: Overall condition rating\n",
    "YearBuilt: Original construction date\n",
    "YearRemodAdd: Remodel date\n",
    "RoofStyle: Type of roof\n",
    "RoofMatl: Roof material\n",
    "Exterior1st: Exterior covering on house\n",
    "Exterior2nd: Exterior covering on house (if more than one material)\n",
    "MasVnrType: Masonry veneer type\n",
    "MasVnrArea: Masonry veneer area in square feet\n",
    "ExterQual: Exterior material quality\n",
    "ExterCond: Present condition of the material on the exterior\n",
    "Foundation: Type of foundation\n",
    "BsmtQual: Height of the basement\n",
    "BsmtCond: General condition of the basement\n",
    "BsmtExposure: Walkout or garden level basement walls\n",
    "BsmtFinType1: Quality of basement finished area\n",
    "BsmtFinSF1: Type 1 finished square feet\n",
    "BsmtFinType2: Quality of second finished area (if present)\n",
    "BsmtFinSF2: Type 2 finished square feet\n",
    "BsmtUnfSF: Unfinished square feet of basement area\n",
    "TotalBsmtSF: Total square feet of basement area\n",
    "Heating: Type of heating\n",
    "HeatingQC: Heating quality and condition\n",
    "CentralAir: Central air conditioning\n",
    "Electrical: Electrical system\n",
    "1stFlrSF: First Floor square feet\n",
    "2ndFlrSF: Second floor square feet\n",
    "LowQualFinSF: Low quality finished square feet (all floors)\n",
    "GrLivArea: Above grade (ground) living area square feet\n",
    "BsmtFullBath: Basement full bathrooms\n",
    "BsmtHalfBath: Basement half bathrooms\n",
    "FullBath: Full bathrooms above grade\n",
    "HalfBath: Half baths above grade\n",
    "Bedroom: Number of bedrooms above basement level\n",
    "Kitchen: Number of kitchens\n",
    "KitchenQual: Kitchen quality\n",
    "TotRmsAbvGrd: Total rooms above grade (does not include bathrooms)\n",
    "Functional: Home functionality rating\n",
    "Fireplaces: Number of fireplaces\n",
    "FireplaceQu: Fireplace quality\n",
    "GarageType: Garage location\n",
    "GarageYrBlt: Year garage was built\n",
    "GarageFinish: Interior finish of the garage\n",
    "GarageCars: Size of garage in car capacity\n",
    "GarageArea: Size of garage in square feet\n",
    "GarageQual: Garage quality\n",
    "GarageCond: Garage condition\n",
    "PavedDrive: Paved driveway\n",
    "WoodDeckSF: Wood deck area in square feet\n",
    "OpenPorchSF: Open porch area in square feet\n",
    "EnclosedPorch: Enclosed porch area in square feet\n",
    "3SsnPorch: Three season porch area in square feet\n",
    "ScreenPorch: Screen porch area in square feet\n",
    "PoolArea: Pool area in square feet\n",
    "PoolQC: Pool quality\n",
    "Fence: Fence quality\n",
    "MiscFeature: Miscellaneous feature not covered in other categories\n",
    "MiscVal: $Value of miscellaneous feature\n",
    "MoSold: Month Sold\n",
    "YrSold: Year Sold\n",
    "SaleType: Type of sale\n",
    "SaleCondition: Condition of sale```"
   ]
  },
  {
   "cell_type": "code",
   "execution_count": 1,
   "metadata": {},
   "outputs": [],
   "source": [
    "import pandas as pd\n",
    "import numpy as np\n",
    "import matplotlib.pyplot as plt\n",
    "import seaborn as sns\n",
    "from sklearn import preprocessing"
   ]
  },
  {
   "cell_type": "code",
   "execution_count": 86,
   "metadata": {},
   "outputs": [],
   "source": [
    "df = pd.read_csv('data/train.csv')\n",
    "df_test = pd.read_csv('data/test.csv')"
   ]
  },
  {
   "cell_type": "code",
   "execution_count": null,
   "metadata": {},
   "outputs": [],
   "source": []
  },
  {
   "cell_type": "code",
   "execution_count": 87,
   "metadata": {},
   "outputs": [],
   "source": [
    "# filling missing values\n",
    "df.BsmtExposure.fillna('NA', inplace=True)\n",
    "df.BsmtFinType2.fillna('NA', inplace=True)\n",
    "df.BsmtFinType1.fillna('NA', inplace=True)\n",
    "df.BsmtCond.fillna('NA', inplace=True)\n",
    "df.BsmtQual.fillna('NA', inplace=True)\n",
    "df.GarageCond.fillna('NA', inplace=True)\n",
    "df.GarageType.fillna('NA', inplace=True)\n",
    "df.GarageYrBlt.fillna('NA', inplace=True)\n",
    "df.GarageFinish.fillna('NA', inplace=True)\n",
    "df.GarageQual.fillna('NA', inplace=True)\n",
    "df.Electrical.fillna('NA', inplace=True)\n",
    "df.FireplaceQu.fillna('NA', inplace=True)\n",
    "df.MasVnrArea.fillna(0, inplace=True)\n",
    "df.MasVnrType.fillna(\"None\", inplace=True)\n",
    "df.Fence.fillna(\"NA\", inplace=True)\n",
    "df.Alley.fillna(\"NA\", inplace=True)\n",
    "df.PoolQC.fillna(\"NA\", inplace=True)\n",
    "df.MiscFeature.fillna(\"NA\", inplace=True)\n",
    "df.LotFrontage.fillna(df.LotFrontage.median(), inplace=True)"
   ]
  },
  {
   "cell_type": "code",
   "execution_count": 88,
   "metadata": {},
   "outputs": [],
   "source": [
    "# filling missing values\n",
    "df_test.BsmtExposure.fillna('NA', inplace=True)\n",
    "df_test.BsmtFinType2.fillna('NA', inplace=True)\n",
    "df_test.BsmtFinType1.fillna('NA', inplace=True)\n",
    "df_test.BsmtCond.fillna('NA', inplace=True)\n",
    "df_test.BsmtQual.fillna('NA', inplace=True)\n",
    "df_test.GarageCond.fillna('NA', inplace=True)\n",
    "df_test.GarageType.fillna('NA', inplace=True)\n",
    "df_test.GarageYrBlt.fillna('NA', inplace=True)\n",
    "df_test.GarageFinish.fillna('NA', inplace=True)\n",
    "df_test.GarageQual.fillna('NA', inplace=True)\n",
    "df_test.Electrical.fillna('NA', inplace=True)\n",
    "df_test.FireplaceQu.fillna('NA', inplace=True)\n",
    "df_test.MasVnrArea.fillna(0, inplace=True)\n",
    "df_test.MasVnrType.fillna(\"None\", inplace=True)\n",
    "df_test.Fence.fillna(\"NA\", inplace=True)\n",
    "df_test.Alley.fillna(\"NA\", inplace=True)\n",
    "df_test.PoolQC.fillna(\"NA\", inplace=True)\n",
    "df_test.MiscFeature.fillna(\"NA\", inplace=True)\n",
    "df_test.LotFrontage.fillna(df_test.LotFrontage.median(), inplace=True)"
   ]
  },
  {
   "cell_type": "code",
   "execution_count": 89,
   "metadata": {},
   "outputs": [],
   "source": [
    "# Cleaning test data set #\n",
    "df_test.SaleType.fillna('WD', inplace=True)\n",
    "df_test.GarageCars.fillna(0, inplace=True)\n",
    "df_test.GarageArea.fillna(0, inplace=True)\n",
    "df_test.KitchenQual.fillna('TA', inplace=True)\n",
    "df_test.MSZoning.fillna('RL', inplace=True)\n",
    "df_test.MasVnrType.fillna(\"None\", inplace=True)\n",
    "df_test.BsmtFullBath.fillna(0, inplace=True)\n",
    "df_test.BsmtHalfBath.fillna(0, inplace=True)\n",
    "df_test.Functional.fillna('Typ', inplace=True)\n",
    "df_test.BsmtFinSF1.fillna(0, inplace=True)\n",
    "df_test.BsmtFinSF2.fillna(0, inplace=True)\n",
    "df_test.Exterior1st.fillna(0, inplace=True)\n",
    "df_test.Exterior2nd.fillna(0, inplace=True)\n",
    "df_test.BsmtUnfSF.fillna(0, inplace=True)\n",
    "df_test.TotalBsmtSF.fillna(0, inplace=True)\n",
    "df_test.Utilities.fillna('AllPub', inplace=True)\n"
   ]
  },
  {
   "cell_type": "code",
   "execution_count": null,
   "metadata": {},
   "outputs": [],
   "source": []
  },
  {
   "cell_type": "code",
   "execution_count": 90,
   "metadata": {},
   "outputs": [
    {
     "name": "stderr",
     "output_type": "stream",
     "text": [
      "C:\\ProgramData\\Anaconda3\\lib\\site-packages\\ipykernel_launcher.py:14: UserWarning: Pandas doesn't allow columns to be created via a new attribute name - see https://pandas.pydata.org/pandas-docs/stable/indexing.html#attribute-access\n",
      "  \n",
      "C:\\ProgramData\\Anaconda3\\lib\\site-packages\\ipykernel_launcher.py:27: UserWarning: Pandas doesn't allow columns to be created via a new attribute name - see https://pandas.pydata.org/pandas-docs/stable/indexing.html#attribute-access\n"
     ]
    }
   ],
   "source": [
    "# feature engineering #\n",
    "\n",
    "df['Total_sq'] = (df['1stFlrSF'] + df['2ndFlrSF'] + df['LowQualFinSF'] + df['TotalBsmtSF'])\n",
    "#df['Age'] = 2018 - df.YearBuilt # did not appear to help\n",
    "#df['RemoAge'] = 2018 - df.YearRemodAdd # did not appear to help\n",
    "df.MSSubClass = df.MSSubClass.astype(str)\n",
    "df.YearBuilt = df.YearBuilt.astype(str)\n",
    "df.YearRemodAdd = df.YearRemodAdd.astype(str)\n",
    "#df.YrSold = df.YrSold.astype(str)\n",
    "df.MoSold = df.MoSold.astype(str)\n",
    "df.OverallQual = df.OverallQual.astype(str)\n",
    "df.OverallCond = df.OverallCond.astype(str)\n",
    "#df.Id = df.OverallCond.astype(str)\n",
    "df.TotalBath = (df.BsmtFullBath + df.FullBath) + ((df.BsmtHalfBath + df.HalfBath)*.5)\n",
    "\n",
    "df_test['Total_sq'] = (df_test['1stFlrSF'] + df_test['2ndFlrSF'] + df_test['LowQualFinSF'] + df_test['TotalBsmtSF'])\n",
    "#df_test['Age'] = 2018 - df_test.YearBuilt\n",
    "#df_test['RemoAge'] = 2018 - df_test.YearRemodAdd\n",
    "df_test.MSSubClass = df_test.MSSubClass.astype(str)\n",
    "df_test.YearBuilt = df_test.YearBuilt.astype(str)\n",
    "df_test.YearRemodAdd = df_test.YearRemodAdd.astype(str)\n",
    "#df_test.YrSold = df_test.YrSold.astype(str)\n",
    "df_test.MoSold = df_test.MoSold.astype(str)\n",
    "df_test.OverallQual = df_test.OverallQual.astype(str)\n",
    "df_test.OverallCond = df_test.OverallCond.astype(str)\n",
    "#df_test.Id = df_test.OverallCond.astype(str)\n",
    "df_test.TotalBath = (df_test.BsmtFullBath + df_test.FullBath) + ((df_test.BsmtHalfBath + df_test.HalfBath)*.5)\n"
   ]
  },
  {
   "cell_type": "code",
   "execution_count": 7,
   "metadata": {
    "scrolled": true
   },
   "outputs": [],
   "source": [
    "#df.select_dtypes(['number'])\n",
    "#df.select_dtypes(['object'])"
   ]
  },
  {
   "cell_type": "markdown",
   "metadata": {},
   "source": [
    "Tests 1-5 did not include Year Sold. Added back into data for Test 6 onward."
   ]
  },
  {
   "cell_type": "markdown",
   "metadata": {},
   "source": [
    "# Linear Regression Test, ALL NUMERIC FIELDS\n",
    "(score = 0.46468)"
   ]
  },
  {
   "cell_type": "code",
   "execution_count": 8,
   "metadata": {},
   "outputs": [],
   "source": [
    "# Begin Linear Regression DataFrames\n",
    "\n",
    "df_linear = df.select_dtypes(['number'])\n",
    "df_linear_test = df_test.select_dtypes(['number'])"
   ]
  },
  {
   "cell_type": "code",
   "execution_count": 9,
   "metadata": {},
   "outputs": [],
   "source": [
    "from sklearn.linear_model import LinearRegression\n",
    "from sklearn.metrics import accuracy_score, confusion_matrix, classification_report\n",
    "\n",
    "X_train = df_linear.drop('SalePrice', axis = 1)\n",
    "y_train = df_linear.SalePrice\n",
    "X_test = df_linear_test"
   ]
  },
  {
   "cell_type": "code",
   "execution_count": 10,
   "metadata": {},
   "outputs": [],
   "source": [
    "#train a model\n",
    "linear_model = LinearRegression().fit(X_train,y_train)\n",
    "\n",
    "#predict on training set\n",
    "predicted_y = linear_model.predict(X_test) "
   ]
  },
  {
   "cell_type": "code",
   "execution_count": 11,
   "metadata": {},
   "outputs": [],
   "source": [
    "df_submission_1 = df_test\n",
    "df_submission_1['SalePrice'] = predicted_y\n",
    "df_submission_1 = df_submission_1[['Id','SalePrice']]"
   ]
  },
  {
   "cell_type": "code",
   "execution_count": 12,
   "metadata": {},
   "outputs": [],
   "source": [
    "df_submission_1.to_csv('submission1.csv',index=False)"
   ]
  },
  {
   "cell_type": "markdown",
   "metadata": {},
   "source": [
    "# Linear Regression Test 2, minimal features\n",
    "Score = (0.20529)"
   ]
  },
  {
   "cell_type": "code",
   "execution_count": 13,
   "metadata": {},
   "outputs": [
    {
     "name": "stderr",
     "output_type": "stream",
     "text": [
      "C:\\ProgramData\\Anaconda3\\lib\\site-packages\\ipykernel_launcher.py:2: SettingWithCopyWarning: \n",
      "A value is trying to be set on a copy of a slice from a DataFrame\n",
      "\n",
      "See the caveats in the documentation: http://pandas.pydata.org/pandas-docs/stable/indexing.html#indexing-view-versus-copy\n",
      "  \n",
      "C:\\ProgramData\\Anaconda3\\lib\\site-packages\\ipykernel_launcher.py:4: SettingWithCopyWarning: \n",
      "A value is trying to be set on a copy of a slice from a DataFrame\n",
      "\n",
      "See the caveats in the documentation: http://pandas.pydata.org/pandas-docs/stable/indexing.html#indexing-view-versus-copy\n",
      "  after removing the cwd from sys.path.\n"
     ]
    }
   ],
   "source": [
    "df_linear_2 = df.select_dtypes(['number'])\n",
    "df_linear_2.drop(['MasVnrArea', 'FullBath','HalfBath','BsmtFinSF1', 'BsmtFinSF2', 'TotalBsmtSF', 'TotalBsmtSF', '1stFlrSF', '2ndFlrSF', 'LowQualFinSF','BsmtFullBath','BsmtHalfBath','BsmtUnfSF','PoolArea','MiscVal','ScreenPorch','3SsnPorch'], axis = 1, inplace = True)\n",
    "df_linear_test_2 = df_test.select_dtypes(['number'])\n",
    "df_linear_test_2.drop(['MasVnrArea', 'FullBath','HalfBath','BsmtFinSF1', 'BsmtFinSF2', 'TotalBsmtSF', 'TotalBsmtSF', '1stFlrSF', '2ndFlrSF', 'LowQualFinSF','BsmtFullBath','BsmtHalfBath','BsmtUnfSF','PoolArea','MiscVal','ScreenPorch','3SsnPorch'], axis = 1, inplace = True)"
   ]
  },
  {
   "cell_type": "code",
   "execution_count": 14,
   "metadata": {},
   "outputs": [
    {
     "data": {
      "text/plain": [
       "Id                 int64\n",
       "LotFrontage      float64\n",
       "LotArea            int64\n",
       "MasVnrArea       float64\n",
       "BsmtFinSF1         int64\n",
       "BsmtFinSF2         int64\n",
       "BsmtUnfSF          int64\n",
       "TotalBsmtSF        int64\n",
       "1stFlrSF           int64\n",
       "2ndFlrSF           int64\n",
       "LowQualFinSF       int64\n",
       "GrLivArea          int64\n",
       "BsmtFullBath       int64\n",
       "BsmtHalfBath       int64\n",
       "FullBath           int64\n",
       "HalfBath           int64\n",
       "BedroomAbvGr       int64\n",
       "KitchenAbvGr       int64\n",
       "TotRmsAbvGrd       int64\n",
       "Fireplaces         int64\n",
       "GarageCars         int64\n",
       "GarageArea         int64\n",
       "WoodDeckSF         int64\n",
       "OpenPorchSF        int64\n",
       "EnclosedPorch      int64\n",
       "3SsnPorch          int64\n",
       "ScreenPorch        int64\n",
       "PoolArea           int64\n",
       "MiscVal            int64\n",
       "YrSold             int64\n",
       "Total_sq           int64\n",
       "dtype: object"
      ]
     },
     "execution_count": 14,
     "metadata": {},
     "output_type": "execute_result"
    }
   ],
   "source": [
    "X_train.dtypes"
   ]
  },
  {
   "cell_type": "code",
   "execution_count": 15,
   "metadata": {},
   "outputs": [],
   "source": [
    "from sklearn.linear_model import LinearRegression\n",
    "from sklearn.metrics import accuracy_score, confusion_matrix, classification_report\n",
    "\n",
    "X_train = df_linear_2.drop('SalePrice', axis = 1)\n",
    "y_train = df_linear_2.SalePrice\n",
    "X_test = df_linear_test_2\n",
    "X_test = X_test.drop('SalePrice', axis = 1)  # have to drop Sale Price from X_test since reusing the same variable names from the first test"
   ]
  },
  {
   "cell_type": "code",
   "execution_count": 16,
   "metadata": {},
   "outputs": [],
   "source": [
    "#train a model\n",
    "linear_model = LinearRegression().fit(X_train,y_train)\n",
    "\n",
    "#predict on training set\n",
    "predicted_y = linear_model.predict(X_test) "
   ]
  },
  {
   "cell_type": "code",
   "execution_count": 17,
   "metadata": {},
   "outputs": [],
   "source": [
    "df_submission_2 = df_test\n",
    "df_submission_2['SalePrice'] = predicted_y\n",
    "df_submission_2 = df_submission_2[['Id','SalePrice']]"
   ]
  },
  {
   "cell_type": "code",
   "execution_count": 18,
   "metadata": {},
   "outputs": [],
   "source": [
    "df_submission_2.to_csv('submission2.csv',index=False)"
   ]
  },
  {
   "cell_type": "markdown",
   "metadata": {},
   "source": [
    "# Attempt 1 @ XGBoost"
   ]
  },
  {
   "cell_type": "code",
   "execution_count": 19,
   "metadata": {},
   "outputs": [],
   "source": [
    "from xgboost import XGBClassifier\n",
    "\n",
    "df_boost = df\n",
    "df_boost_test = df_test"
   ]
  },
  {
   "cell_type": "code",
   "execution_count": 20,
   "metadata": {},
   "outputs": [],
   "source": [
    "X_train = df_linear_2.drop('SalePrice', axis = 1)\n",
    "y_train = df_linear_2.SalePrice\n",
    "X_test = df_linear_test_2\n",
    "X_test = X_test.drop('SalePrice', axis = 1)  # have to drop Sale Price from X_test since reusing the same variable names from the first test"
   ]
  },
  {
   "cell_type": "code",
   "execution_count": 21,
   "metadata": {},
   "outputs": [
    {
     "data": {
      "text/plain": [
       "XGBClassifier(base_score=0.5, booster='gbtree', colsample_bylevel=1,\n",
       "       colsample_bytree=1, gamma=0, learning_rate=0.1, max_delta_step=0,\n",
       "       max_depth=3, min_child_weight=1, missing=None, n_estimators=100,\n",
       "       n_jobs=1, nthread=None, objective='multi:softprob', random_state=0,\n",
       "       reg_alpha=0, reg_lambda=1, scale_pos_weight=1, seed=None,\n",
       "       silent=True, subsample=1)"
      ]
     },
     "execution_count": 21,
     "metadata": {},
     "output_type": "execute_result"
    }
   ],
   "source": [
    "model = XGBClassifier()\n",
    "model.fit(X_train, y_train)"
   ]
  },
  {
   "cell_type": "code",
   "execution_count": 22,
   "metadata": {},
   "outputs": [
    {
     "name": "stderr",
     "output_type": "stream",
     "text": [
      "C:\\ProgramData\\Anaconda3\\lib\\site-packages\\sklearn\\preprocessing\\label.py:151: DeprecationWarning: The truth value of an empty array is ambiguous. Returning False, but in future this will result in an error. Use `array.size > 0` to check that an array is not empty.\n",
      "  if diff:\n"
     ]
    }
   ],
   "source": [
    "y_pred = model.predict(X_test)\n",
    "predictions = [value for value in y_pred]"
   ]
  },
  {
   "cell_type": "code",
   "execution_count": 23,
   "metadata": {},
   "outputs": [],
   "source": [
    "df_submission_3 = df_test\n",
    "df_submission_3['SalePrice'] = predictions\n",
    "df_submission_3 = df_submission_3[['Id','SalePrice']]"
   ]
  },
  {
   "cell_type": "code",
   "execution_count": 24,
   "metadata": {},
   "outputs": [],
   "source": [
    "df_submission_3.to_csv('submission3.csv',index=False)"
   ]
  },
  {
   "cell_type": "markdown",
   "metadata": {},
   "source": [
    "# Pass #4, remove poorly correlated data, run RandomForest\n",
    "(score = .262222)"
   ]
  },
  {
   "cell_type": "code",
   "execution_count": 25,
   "metadata": {},
   "outputs": [
    {
     "data": {
      "text/html": [
       "<div>\n",
       "<style scoped>\n",
       "    .dataframe tbody tr th:only-of-type {\n",
       "        vertical-align: middle;\n",
       "    }\n",
       "\n",
       "    .dataframe tbody tr th {\n",
       "        vertical-align: top;\n",
       "    }\n",
       "\n",
       "    .dataframe thead th {\n",
       "        text-align: right;\n",
       "    }\n",
       "</style>\n",
       "<table border=\"1\" class=\"dataframe\">\n",
       "  <thead>\n",
       "    <tr style=\"text-align: right;\">\n",
       "      <th></th>\n",
       "      <th>Id</th>\n",
       "      <th>LotFrontage</th>\n",
       "      <th>LotArea</th>\n",
       "      <th>GrLivArea</th>\n",
       "      <th>BedroomAbvGr</th>\n",
       "      <th>KitchenAbvGr</th>\n",
       "      <th>TotRmsAbvGrd</th>\n",
       "      <th>Fireplaces</th>\n",
       "      <th>GarageCars</th>\n",
       "      <th>GarageArea</th>\n",
       "      <th>WoodDeckSF</th>\n",
       "      <th>OpenPorchSF</th>\n",
       "      <th>EnclosedPorch</th>\n",
       "      <th>YrSold</th>\n",
       "      <th>SalePrice</th>\n",
       "      <th>Total_sq</th>\n",
       "    </tr>\n",
       "  </thead>\n",
       "  <tbody>\n",
       "    <tr>\n",
       "      <th>0</th>\n",
       "      <td>1</td>\n",
       "      <td>65.0</td>\n",
       "      <td>8450</td>\n",
       "      <td>1710</td>\n",
       "      <td>3</td>\n",
       "      <td>1</td>\n",
       "      <td>8</td>\n",
       "      <td>0</td>\n",
       "      <td>2</td>\n",
       "      <td>548</td>\n",
       "      <td>0</td>\n",
       "      <td>61</td>\n",
       "      <td>0</td>\n",
       "      <td>2008</td>\n",
       "      <td>208500</td>\n",
       "      <td>2566</td>\n",
       "    </tr>\n",
       "    <tr>\n",
       "      <th>1</th>\n",
       "      <td>2</td>\n",
       "      <td>80.0</td>\n",
       "      <td>9600</td>\n",
       "      <td>1262</td>\n",
       "      <td>3</td>\n",
       "      <td>1</td>\n",
       "      <td>6</td>\n",
       "      <td>1</td>\n",
       "      <td>2</td>\n",
       "      <td>460</td>\n",
       "      <td>298</td>\n",
       "      <td>0</td>\n",
       "      <td>0</td>\n",
       "      <td>2007</td>\n",
       "      <td>181500</td>\n",
       "      <td>2524</td>\n",
       "    </tr>\n",
       "    <tr>\n",
       "      <th>2</th>\n",
       "      <td>3</td>\n",
       "      <td>68.0</td>\n",
       "      <td>11250</td>\n",
       "      <td>1786</td>\n",
       "      <td>3</td>\n",
       "      <td>1</td>\n",
       "      <td>6</td>\n",
       "      <td>1</td>\n",
       "      <td>2</td>\n",
       "      <td>608</td>\n",
       "      <td>0</td>\n",
       "      <td>42</td>\n",
       "      <td>0</td>\n",
       "      <td>2008</td>\n",
       "      <td>223500</td>\n",
       "      <td>2706</td>\n",
       "    </tr>\n",
       "    <tr>\n",
       "      <th>3</th>\n",
       "      <td>4</td>\n",
       "      <td>60.0</td>\n",
       "      <td>9550</td>\n",
       "      <td>1717</td>\n",
       "      <td>3</td>\n",
       "      <td>1</td>\n",
       "      <td>7</td>\n",
       "      <td>1</td>\n",
       "      <td>3</td>\n",
       "      <td>642</td>\n",
       "      <td>0</td>\n",
       "      <td>35</td>\n",
       "      <td>272</td>\n",
       "      <td>2006</td>\n",
       "      <td>140000</td>\n",
       "      <td>2473</td>\n",
       "    </tr>\n",
       "    <tr>\n",
       "      <th>4</th>\n",
       "      <td>5</td>\n",
       "      <td>84.0</td>\n",
       "      <td>14260</td>\n",
       "      <td>2198</td>\n",
       "      <td>4</td>\n",
       "      <td>1</td>\n",
       "      <td>9</td>\n",
       "      <td>1</td>\n",
       "      <td>3</td>\n",
       "      <td>836</td>\n",
       "      <td>192</td>\n",
       "      <td>84</td>\n",
       "      <td>0</td>\n",
       "      <td>2008</td>\n",
       "      <td>250000</td>\n",
       "      <td>3343</td>\n",
       "    </tr>\n",
       "  </tbody>\n",
       "</table>\n",
       "</div>"
      ],
      "text/plain": [
       "   Id  LotFrontage  LotArea  GrLivArea  BedroomAbvGr  KitchenAbvGr  \\\n",
       "0   1         65.0     8450       1710             3             1   \n",
       "1   2         80.0     9600       1262             3             1   \n",
       "2   3         68.0    11250       1786             3             1   \n",
       "3   4         60.0     9550       1717             3             1   \n",
       "4   5         84.0    14260       2198             4             1   \n",
       "\n",
       "   TotRmsAbvGrd  Fireplaces  GarageCars  GarageArea  WoodDeckSF  OpenPorchSF  \\\n",
       "0             8           0           2         548           0           61   \n",
       "1             6           1           2         460         298            0   \n",
       "2             6           1           2         608           0           42   \n",
       "3             7           1           3         642           0           35   \n",
       "4             9           1           3         836         192           84   \n",
       "\n",
       "   EnclosedPorch  YrSold  SalePrice  Total_sq  \n",
       "0              0    2008     208500      2566  \n",
       "1              0    2007     181500      2524  \n",
       "2              0    2008     223500      2706  \n",
       "3            272    2006     140000      2473  \n",
       "4              0    2008     250000      3343  "
      ]
     },
     "execution_count": 25,
     "metadata": {},
     "output_type": "execute_result"
    }
   ],
   "source": [
    "df_linear_2.head()"
   ]
  },
  {
   "cell_type": "code",
   "execution_count": 26,
   "metadata": {
    "scrolled": true
   },
   "outputs": [
    {
     "data": {
      "text/plain": [
       "<matplotlib.axes._subplots.AxesSubplot at 0x2741175e320>"
      ]
     },
     "execution_count": 26,
     "metadata": {},
     "output_type": "execute_result"
    },
    {
     "data": {
      "image/png": "[encoded data removed]",
      "text/plain": [
       "<matplotlib.figure.Figure at 0x2741175edd8>"
      ]
     },
     "metadata": {},
     "output_type": "display_data"
    }
   ],
   "source": [
    "# correlation matrix\n",
    "sns.heatmap(df_linear_2.corr(), square=True, cmap='RdYlGn')"
   ]
  },
  {
   "cell_type": "code",
   "execution_count": 27,
   "metadata": {},
   "outputs": [
    {
     "name": "stderr",
     "output_type": "stream",
     "text": [
      "C:\\ProgramData\\Anaconda3\\lib\\site-packages\\ipykernel_launcher.py:1: SettingWithCopyWarning: \n",
      "A value is trying to be set on a copy of a slice from a DataFrame\n",
      "\n",
      "See the caveats in the documentation: http://pandas.pydata.org/pandas-docs/stable/indexing.html#indexing-view-versus-copy\n",
      "  \"\"\"Entry point for launching an IPython kernel.\n",
      "C:\\ProgramData\\Anaconda3\\lib\\site-packages\\ipykernel_launcher.py:2: SettingWithCopyWarning: \n",
      "A value is trying to be set on a copy of a slice from a DataFrame\n",
      "\n",
      "See the caveats in the documentation: http://pandas.pydata.org/pandas-docs/stable/indexing.html#indexing-view-versus-copy\n",
      "  \n"
     ]
    }
   ],
   "source": [
    "df_linear_2.drop(['EnclosedPorch','KitchenAbvGr','BedroomAbvGr','WoodDeckSF','OpenPorchSF','LotArea','LotFrontage','Id'], axis = 1, inplace=True)\n",
    "df_linear_test_2.drop(['EnclosedPorch','KitchenAbvGr','BedroomAbvGr','WoodDeckSF','OpenPorchSF','LotArea','LotFrontage','Id'], axis = 1, inplace=True)"
   ]
  },
  {
   "cell_type": "code",
   "execution_count": 28,
   "metadata": {},
   "outputs": [],
   "source": [
    "X_train = df_linear_2.drop('SalePrice', axis = 1)\n",
    "y_train = df_linear_2.SalePrice\n",
    "X_test = df_linear_test_2\n",
    "X_test = X_test.drop('SalePrice', axis = 1)  # have to drop Sale Price from X_test since reusing the same variable names from the first test"
   ]
  },
  {
   "cell_type": "code",
   "execution_count": 29,
   "metadata": {},
   "outputs": [
    {
     "data": {
      "text/plain": [
       "RandomForestClassifier(bootstrap=True, class_weight=None, criterion='gini',\n",
       "            max_depth=None, max_features='auto', max_leaf_nodes=None,\n",
       "            min_impurity_decrease=0.0, min_impurity_split=None,\n",
       "            min_samples_leaf=1, min_samples_split=2,\n",
       "            min_weight_fraction_leaf=0.0, n_estimators=100, n_jobs=1,\n",
       "            oob_score=True, random_state=123456, verbose=0,\n",
       "            warm_start=False)"
      ]
     },
     "execution_count": 29,
     "metadata": {},
     "output_type": "execute_result"
    }
   ],
   "source": [
    "from sklearn.ensemble import RandomForestClassifier\n",
    "\n",
    "rf = RandomForestClassifier(n_estimators=100, oob_score=True, random_state=123456)\n",
    "rf.fit(X_train, y_train)\n"
   ]
  },
  {
   "cell_type": "code",
   "execution_count": 30,
   "metadata": {},
   "outputs": [],
   "source": [
    "y_pred = rf.predict(X_test)\n",
    "predictions = [value for value in y_pred]"
   ]
  },
  {
   "cell_type": "code",
   "execution_count": 31,
   "metadata": {},
   "outputs": [],
   "source": [
    "df_submission_4 = df_test\n",
    "df_submission_4['SalePrice'] = predictions\n",
    "df_submission_4 = df_submission_4[['Id','SalePrice']]"
   ]
  },
  {
   "cell_type": "code",
   "execution_count": 32,
   "metadata": {},
   "outputs": [],
   "source": [
    "df_submission_4.to_csv('submission4_rf.csv',index=False)"
   ]
  },
  {
   "cell_type": "markdown",
   "metadata": {},
   "source": [
    "# Rerunning XGBoost with new df, 6 features\n",
    "(score = .25120)"
   ]
  },
  {
   "cell_type": "code",
   "execution_count": 33,
   "metadata": {},
   "outputs": [
    {
     "name": "stderr",
     "output_type": "stream",
     "text": [
      "C:\\ProgramData\\Anaconda3\\lib\\site-packages\\sklearn\\preprocessing\\label.py:151: DeprecationWarning: The truth value of an empty array is ambiguous. Returning False, but in future this will result in an error. Use `array.size > 0` to check that an array is not empty.\n",
      "  if diff:\n"
     ]
    }
   ],
   "source": [
    "X_train = df_linear_2.drop('SalePrice', axis = 1)\n",
    "y_train = df_linear_2.SalePrice\n",
    "X_test = df_linear_test_2\n",
    "X_test = X_test.drop('SalePrice', axis = 1)  # have to drop Sale Price from X_test since reusing the same variable names from the first test\n",
    "\n",
    "model = XGBClassifier()\n",
    "model.fit(X_train, y_train)\n",
    "\n",
    "y_pred = model.predict(X_test)\n",
    "predictions = [value for value in y_pred]\n",
    "\n",
    "df_submission_5_post_rf = df_test\n",
    "df_submission_5_post_rf['SalePrice'] = predictions\n",
    "df_submission_5_post_rf = df_submission_5_post_rf[['Id','SalePrice']]\n",
    "df_submission_5_post_rf.to_csv('submission_5_post_rf.csv',index=False)"
   ]
  },
  {
   "cell_type": "markdown",
   "metadata": {},
   "source": [
    "# back to basics"
   ]
  },
  {
   "cell_type": "code",
   "execution_count": 34,
   "metadata": {},
   "outputs": [
    {
     "name": "stderr",
     "output_type": "stream",
     "text": [
      "C:\\ProgramData\\Anaconda3\\lib\\site-packages\\ipykernel_launcher.py:2: SettingWithCopyWarning: \n",
      "A value is trying to be set on a copy of a slice from a DataFrame\n",
      "\n",
      "See the caveats in the documentation: http://pandas.pydata.org/pandas-docs/stable/indexing.html#indexing-view-versus-copy\n",
      "  \n",
      "C:\\ProgramData\\Anaconda3\\lib\\site-packages\\ipykernel_launcher.py:4: SettingWithCopyWarning: \n",
      "A value is trying to be set on a copy of a slice from a DataFrame\n",
      "\n",
      "See the caveats in the documentation: http://pandas.pydata.org/pandas-docs/stable/indexing.html#indexing-view-versus-copy\n",
      "  after removing the cwd from sys.path.\n"
     ]
    }
   ],
   "source": [
    "df_linear_3 = df.select_dtypes(['number'])\n",
    "df_linear_3.drop(['MasVnrArea', 'FullBath','HalfBath','BsmtFinSF1', 'BsmtFinSF2', 'TotalBsmtSF', 'TotalBsmtSF', '1stFlrSF', '2ndFlrSF', 'LowQualFinSF','BsmtFullBath','BsmtHalfBath','BsmtUnfSF','PoolArea','MiscVal','ScreenPorch','3SsnPorch'], axis = 1, inplace = True)\n",
    "df_linear_test_3 = df_test.select_dtypes(['number'])\n",
    "df_linear_test_3.drop(['MasVnrArea', 'FullBath','HalfBath','BsmtFinSF1', 'BsmtFinSF2', 'TotalBsmtSF', 'TotalBsmtSF', '1stFlrSF', '2ndFlrSF', 'LowQualFinSF','BsmtFullBath','BsmtHalfBath','BsmtUnfSF','PoolArea','MiscVal','ScreenPorch','3SsnPorch'], axis = 1, inplace = True)"
   ]
  },
  {
   "cell_type": "code",
   "execution_count": null,
   "metadata": {},
   "outputs": [],
   "source": []
  },
  {
   "cell_type": "code",
   "execution_count": 35,
   "metadata": {},
   "outputs": [
    {
     "name": "stderr",
     "output_type": "stream",
     "text": [
      "C:\\ProgramData\\Anaconda3\\lib\\site-packages\\ipykernel_launcher.py:1: SettingWithCopyWarning: \n",
      "A value is trying to be set on a copy of a slice from a DataFrame.\n",
      "Try using .loc[row_indexer,col_indexer] = value instead\n",
      "\n",
      "See the caveats in the documentation: http://pandas.pydata.org/pandas-docs/stable/indexing.html#indexing-view-versus-copy\n",
      "  \"\"\"Entry point for launching an IPython kernel.\n",
      "C:\\ProgramData\\Anaconda3\\lib\\site-packages\\ipykernel_launcher.py:2: SettingWithCopyWarning: \n",
      "A value is trying to be set on a copy of a slice from a DataFrame.\n",
      "Try using .loc[row_indexer,col_indexer] = value instead\n",
      "\n",
      "See the caveats in the documentation: http://pandas.pydata.org/pandas-docs/stable/indexing.html#indexing-view-versus-copy\n",
      "  \n",
      "C:\\ProgramData\\Anaconda3\\lib\\site-packages\\ipykernel_launcher.py:4: SettingWithCopyWarning: \n",
      "A value is trying to be set on a copy of a slice from a DataFrame.\n",
      "Try using .loc[row_indexer,col_indexer] = value instead\n",
      "\n",
      "See the caveats in the documentation: http://pandas.pydata.org/pandas-docs/stable/indexing.html#indexing-view-versus-copy\n",
      "  after removing the cwd from sys.path.\n",
      "C:\\ProgramData\\Anaconda3\\lib\\site-packages\\ipykernel_launcher.py:7: SettingWithCopyWarning: \n",
      "A value is trying to be set on a copy of a slice from a DataFrame\n",
      "\n",
      "See the caveats in the documentation: http://pandas.pydata.org/pandas-docs/stable/indexing.html#indexing-view-versus-copy\n",
      "  import sys\n"
     ]
    }
   ],
   "source": [
    "df_linear_3['Neighborhood'] = df.Neighborhood\n",
    "df_linear_test_3['Neighborhood'] = df_test.Neighborhood\n",
    "\n",
    "df_linear_3['DollarPerSqFt'] = (df_linear_3.SalePrice/df_linear_3.Total_sq)\n",
    "\n",
    "DollarPerHood = df_linear_3.groupby(['Neighborhood'])['DollarPerSqFt'].median().reset_index()\n",
    "df_linear_3.drop('DollarPerSqFt', axis = 1, inplace=True)"
   ]
  },
  {
   "cell_type": "code",
   "execution_count": null,
   "metadata": {},
   "outputs": [],
   "source": []
  },
  {
   "cell_type": "code",
   "execution_count": 36,
   "metadata": {},
   "outputs": [
    {
     "data": {
      "text/plain": [
       "<matplotlib.axes._subplots.AxesSubplot at 0x2741685e518>"
      ]
     },
     "execution_count": 36,
     "metadata": {},
     "output_type": "execute_result"
    },
    {
     "data": {
      "image/png": "[encoded data removed]",
      "text/plain": [
       "<matplotlib.figure.Figure at 0x274168519e8>"
      ]
     },
     "metadata": {},
     "output_type": "display_data"
    }
   ],
   "source": [
    "sns.stripplot(x=DollarPerHood.DollarPerSqFt, y=DollarPerHood.Neighborhood, data=DollarPerHood)"
   ]
  },
  {
   "cell_type": "code",
   "execution_count": 37,
   "metadata": {},
   "outputs": [],
   "source": [
    "df_linear_3 = pd.merge(df_linear_3, DollarPerHood, how='left', on=['Neighborhood'])\n",
    "df_linear_test_3 = pd.merge(df_linear_test_3, DollarPerHood, how='left', on=['Neighborhood'])\n",
    "\n",
    "df_linear_3.drop('Neighborhood', axis = 1, inplace=True)\n",
    "df_linear_test_3.drop('Neighborhood', axis = 1, inplace=True)"
   ]
  },
  {
   "cell_type": "code",
   "execution_count": null,
   "metadata": {},
   "outputs": [],
   "source": []
  },
  {
   "cell_type": "code",
   "execution_count": 38,
   "metadata": {},
   "outputs": [],
   "source": [
    "df_linear_test_3.DollarPerSqFt.fillna(df_linear_test_3.DollarPerSqFt.median(), inplace=True)"
   ]
  },
  {
   "cell_type": "code",
   "execution_count": 39,
   "metadata": {},
   "outputs": [],
   "source": [
    "X_train = df_linear_3.drop('SalePrice', axis = 1)\n",
    "y_train = df_linear_3.SalePrice\n",
    "X_test = df_linear_test_3\n",
    "X_test = X_test.drop('SalePrice', axis = 1)  # have to drop Sale Price from X_test since reusing the same variable names from the first test"
   ]
  },
  {
   "cell_type": "code",
   "execution_count": 40,
   "metadata": {},
   "outputs": [
    {
     "data": {
      "text/plain": [
       "RandomForestClassifier(bootstrap=True, class_weight=None, criterion='gini',\n",
       "            max_depth=None, max_features='auto', max_leaf_nodes=None,\n",
       "            min_impurity_decrease=0.0, min_impurity_split=None,\n",
       "            min_samples_leaf=1, min_samples_split=2,\n",
       "            min_weight_fraction_leaf=0.0, n_estimators=100, n_jobs=1,\n",
       "            oob_score=True, random_state=123456, verbose=0,\n",
       "            warm_start=False)"
      ]
     },
     "execution_count": 40,
     "metadata": {},
     "output_type": "execute_result"
    }
   ],
   "source": [
    "from sklearn.ensemble import RandomForestClassifier\n",
    "\n",
    "rf = RandomForestClassifier(n_estimators=100, oob_score=True, random_state=123456)\n",
    "rf.fit(X_train, y_train)\n"
   ]
  },
  {
   "cell_type": "code",
   "execution_count": 41,
   "metadata": {},
   "outputs": [],
   "source": [
    "y_pred = rf.predict(X_test)\n",
    "predictions = [value for value in y_pred]"
   ]
  },
  {
   "cell_type": "code",
   "execution_count": 42,
   "metadata": {},
   "outputs": [],
   "source": [
    "df_submission_6a = df_test\n",
    "df_submission_6a['SalePrice'] = predictions\n",
    "df_submission_6a = df_submission_6a[['Id','SalePrice']]\n",
    "df_submission_6a.to_csv('submission6a_rf_median_by_hood.csv',index=False)"
   ]
  },
  {
   "cell_type": "markdown",
   "metadata": {},
   "source": [
    "# Linear Regression, test 7"
   ]
  },
  {
   "cell_type": "code",
   "execution_count": 43,
   "metadata": {},
   "outputs": [],
   "source": [
    "X_train = df_linear_3.drop('SalePrice', axis = 1)\n",
    "y_train = df_linear_3.SalePrice\n",
    "X_test = df_linear_test_3\n",
    "X_test = X_test.drop('SalePrice', axis = 1)  # have to drop Sale Price from X_test since reusing the same variable names from the first test"
   ]
  },
  {
   "cell_type": "code",
   "execution_count": 44,
   "metadata": {},
   "outputs": [],
   "source": [
    "linear_model = LinearRegression().fit(X_train,y_train)\n",
    "predicted_y = linear_model.predict(X_test) \n",
    "\n",
    "df_submission_7 = df_test\n",
    "df_submission_7['SalePrice'] = predicted_y\n",
    "df_submission_7 = df_submission_7[['Id','SalePrice']]"
   ]
  },
  {
   "cell_type": "code",
   "execution_count": 45,
   "metadata": {},
   "outputs": [],
   "source": [
    "df_submission_7.to_csv('submission7_linear.csv',index=False)"
   ]
  },
  {
   "cell_type": "markdown",
   "metadata": {},
   "source": [
    "# Label Encoder"
   ]
  },
  {
   "cell_type": "code",
   "execution_count": 46,
   "metadata": {},
   "outputs": [],
   "source": [
    "from sklearn.preprocessing import LabelEncoder\n"
   ]
  },
  {
   "cell_type": "code",
   "execution_count": 47,
   "metadata": {},
   "outputs": [],
   "source": [
    "str_column_names = df.select_dtypes(['object'])\n",
    "#str_column_names = df.dtypes.index\n",
    "df_encoded = df\n",
    "df_encoded_test = df_test"
   ]
  },
  {
   "cell_type": "code",
   "execution_count": 48,
   "metadata": {},
   "outputs": [],
   "source": [
    "for i in str_column_names:\n",
    "    lbl = LabelEncoder() \n",
    "    lbl.fit(list(df_encoded[i].values)) \n",
    "    df_encoded[i] = lbl.transform(list(df_encoded[i].values))"
   ]
  },
  {
   "cell_type": "code",
   "execution_count": 49,
   "metadata": {},
   "outputs": [],
   "source": [
    "for i in str_column_names:\n",
    "    lbl = LabelEncoder() \n",
    "    lbl.fit(list(df_encoded_test[i].values)) \n",
    "    df_encoded_test[i] = lbl.transform(list(df_encoded_test[i].values))"
   ]
  },
  {
   "cell_type": "code",
   "execution_count": 50,
   "metadata": {},
   "outputs": [],
   "source": [
    "X_train = df_encoded.drop('SalePrice', axis = 1)\n",
    "y_train = df_encoded.SalePrice\n",
    "X_test = df_encoded_test\n",
    "X_test = X_test.drop('SalePrice', axis = 1)  # have to drop Sale Price from X_test since reusing the same variable names from the first test"
   ]
  },
  {
   "cell_type": "code",
   "execution_count": 51,
   "metadata": {},
   "outputs": [],
   "source": [
    "linear_model = LinearRegression().fit(X_train,y_train)\n",
    "predicted_y = linear_model.predict(X_test) \n",
    "\n",
    "df_submission_8 = df_test\n",
    "df_submission_8['SalePrice'] = predicted_y\n",
    "df_submission_8 = df_submission_8[['Id','SalePrice']]"
   ]
  },
  {
   "cell_type": "code",
   "execution_count": 52,
   "metadata": {},
   "outputs": [],
   "source": [
    "df_submission_8.to_csv('submission8_linear.csv',index=False)"
   ]
  },
  {
   "cell_type": "markdown",
   "metadata": {},
   "source": [
    "# Top 15 dummies\n",
    "(score = 0.19178) - best so far"
   ]
  },
  {
   "cell_type": "code",
   "execution_count": 53,
   "metadata": {},
   "outputs": [],
   "source": [
    "df_dummies = pd.get_dummies(df)\n",
    "df_dummies_test = pd.get_dummies(df_test)"
   ]
  },
  {
   "cell_type": "code",
   "execution_count": 54,
   "metadata": {},
   "outputs": [],
   "source": [
    "i = df_dummies.corr()\n",
    "\n",
    "s = i.unstack()\n",
    "so = s.sort_values(kind=\"quicksort\")\n"
   ]
  },
  {
   "cell_type": "code",
   "execution_count": null,
   "metadata": {},
   "outputs": [],
   "source": []
  },
  {
   "cell_type": "code",
   "execution_count": 55,
   "metadata": {},
   "outputs": [],
   "source": [
    "i = df_dummies_test.corr()\n",
    "\n",
    "s = i.unstack()\n",
    "so_test = s.SalePrice.sort_values(kind=\"quicksort\")"
   ]
  },
  {
   "cell_type": "code",
   "execution_count": 56,
   "metadata": {},
   "outputs": [
    {
     "data": {
      "text/plain": [
       "ExterQual       -0.703202\n",
       "KitchenQual     -0.687115\n",
       "BsmtQual        -0.662729\n",
       "HeatingQC       -0.479448\n",
       "GarageFinish    -0.476513\n",
       "GarageType      -0.434985\n",
       "BsmtExposure    -0.361279\n",
       "LotShape        -0.346301\n",
       "MSZoning        -0.181985\n",
       "EnclosedPorch   -0.176791\n",
       "BsmtFinType1    -0.168717\n",
       "FireplaceQu     -0.141857\n",
       "PoolQC          -0.139062\n",
       "OverallCond     -0.121355\n",
       "KitchenAbvGr    -0.112412\n",
       "MasVnrType      -0.078919\n",
       "MiscFeature     -0.067065\n",
       "Heating         -0.066774\n",
       "LotConfig       -0.062937\n",
       "LowQualFinSF    -0.061266\n",
       "LandContour     -0.057208\n",
       "Id              -0.054335\n",
       "BsmtHalfBath    -0.048586\n",
       "PoolArea        -0.046635\n",
       "BldgType        -0.037539\n",
       "YrSold          -0.015981\n",
       "MSSubClass       0.000741\n",
       "BsmtFinSF2       0.011327\n",
       "SaleType         0.023004\n",
       "MoSold           0.029431\n",
       "                   ...   \n",
       "2ndFlrSF         0.251020\n",
       "GarageCond       0.258616\n",
       "SaleCondition    0.262327\n",
       "CentralAir       0.289727\n",
       "RoofStyle        0.295939\n",
       "LotArea          0.309077\n",
       "HalfBath         0.317588\n",
       "BsmtFullBath     0.321559\n",
       "LotFrontage      0.324918\n",
       "PavedDrive       0.334592\n",
       "OpenPorchSF      0.334969\n",
       "WoodDeckSF       0.359072\n",
       "Foundation       0.463282\n",
       "BsmtFinSF1       0.482231\n",
       "Fireplaces       0.494196\n",
       "GarageYrBlt      0.503024\n",
       "TotRmsAbvGrd     0.507233\n",
       "MasVnrArea       0.565696\n",
       "FullBath         0.577013\n",
       "YearRemodAdd     0.597484\n",
       "OverallQual      0.629882\n",
       "YearBuilt        0.640925\n",
       "1stFlrSF         0.654423\n",
       "TotalBsmtSF      0.667687\n",
       "GarageArea       0.686190\n",
       "GarageCars       0.704865\n",
       "GrLivArea        0.748512\n",
       "Total_sq         0.837341\n",
       "SalePrice        1.000000\n",
       "Utilities             NaN\n",
       "Length: 82, dtype: float64"
      ]
     },
     "execution_count": 56,
     "metadata": {},
     "output_type": "execute_result"
    }
   ],
   "source": [
    "so_test"
   ]
  },
  {
   "cell_type": "code",
   "execution_count": 57,
   "metadata": {},
   "outputs": [],
   "source": [
    "top15 = so.SalePrice.tail(15).index.tolist()"
   ]
  },
  {
   "cell_type": "code",
   "execution_count": 58,
   "metadata": {},
   "outputs": [
    {
     "data": {
      "text/plain": [
       "['BsmtFinSF1',\n",
       " 'Fireplaces',\n",
       " 'MasVnrArea',\n",
       " 'YearRemodAdd',\n",
       " 'OverallQual',\n",
       " 'TotRmsAbvGrd',\n",
       " 'YearBuilt',\n",
       " 'FullBath',\n",
       " '1stFlrSF',\n",
       " 'TotalBsmtSF',\n",
       " 'GarageArea',\n",
       " 'GarageCars',\n",
       " 'GrLivArea',\n",
       " 'Total_sq',\n",
       " 'SalePrice']"
      ]
     },
     "execution_count": 58,
     "metadata": {},
     "output_type": "execute_result"
    }
   ],
   "source": [
    "top15"
   ]
  },
  {
   "cell_type": "code",
   "execution_count": 59,
   "metadata": {},
   "outputs": [],
   "source": [
    "df_dummies = df_dummies[top15]"
   ]
  },
  {
   "cell_type": "code",
   "execution_count": 60,
   "metadata": {},
   "outputs": [],
   "source": [
    "df_dummies_test = df_dummies_test[top15]"
   ]
  },
  {
   "cell_type": "code",
   "execution_count": 61,
   "metadata": {},
   "outputs": [
    {
     "data": {
      "text/plain": [
       "(1460, 15)"
      ]
     },
     "execution_count": 61,
     "metadata": {},
     "output_type": "execute_result"
    }
   ],
   "source": [
    "df_dummies.shape"
   ]
  },
  {
   "cell_type": "code",
   "execution_count": 62,
   "metadata": {
    "scrolled": false
   },
   "outputs": [
    {
     "data": {
      "text/plain": [
       "BsmtFinSF1      0\n",
       "Fireplaces      0\n",
       "MasVnrArea      0\n",
       "YearRemodAdd    0\n",
       "OverallQual     0\n",
       "dtype: int64"
      ]
     },
     "execution_count": 62,
     "metadata": {},
     "output_type": "execute_result"
    }
   ],
   "source": [
    "df_dummies_test.isnull().sum().head(5)"
   ]
  },
  {
   "cell_type": "code",
   "execution_count": 63,
   "metadata": {},
   "outputs": [
    {
     "data": {
      "text/plain": [
       "BsmtFinSF1      0\n",
       "Fireplaces      0\n",
       "MasVnrArea      0\n",
       "YearRemodAdd    0\n",
       "OverallQual     0\n",
       "dtype: int64"
      ]
     },
     "execution_count": 63,
     "metadata": {},
     "output_type": "execute_result"
    }
   ],
   "source": [
    "df_dummies.isnull().sum().head(5)"
   ]
  },
  {
   "cell_type": "code",
   "execution_count": 64,
   "metadata": {},
   "outputs": [
    {
     "data": {
      "text/plain": [
       "'df_dummies.GarageYrBlt.fillna(df_dummies.GarageYrBlt.median(), inplace=True)\\ndf_dummies_test.GarageYrBlt.fillna(df_dummies_test.GarageYrBlt.median(), inplace=True)\\ndf_dummies_test.TotalBsmtSF.fillna(df_dummies_test.TotalBsmtSF.median(), inplace=True)\\ndf_dummies_test.GarageArea.fillna(df_dummies_test.GarageArea.median(), inplace=True)\\ndf_dummies_test.GarageCars.fillna(df_dummies_test.GarageCars.median(), inplace=True)'"
      ]
     },
     "execution_count": 64,
     "metadata": {},
     "output_type": "execute_result"
    }
   ],
   "source": [
    "'''df_dummies.GarageYrBlt.fillna(df_dummies.GarageYrBlt.median(), inplace=True)\n",
    "df_dummies_test.GarageYrBlt.fillna(df_dummies_test.GarageYrBlt.median(), inplace=True)\n",
    "df_dummies_test.TotalBsmtSF.fillna(df_dummies_test.TotalBsmtSF.median(), inplace=True)\n",
    "df_dummies_test.GarageArea.fillna(df_dummies_test.GarageArea.median(), inplace=True)\n",
    "df_dummies_test.GarageCars.fillna(df_dummies_test.GarageCars.median(), inplace=True)'''"
   ]
  },
  {
   "cell_type": "code",
   "execution_count": 65,
   "metadata": {},
   "outputs": [],
   "source": [
    "X_train = df_dummies.drop('SalePrice', axis = 1)\n",
    "y_train = df_dummies.SalePrice\n",
    "X_test = df_dummies_test\n",
    "X_test = X_test.drop('SalePrice', axis = 1)  # have to drop Sale Price from X_test since reusing the same variable names from the first test"
   ]
  },
  {
   "cell_type": "code",
   "execution_count": 66,
   "metadata": {},
   "outputs": [],
   "source": [
    "linear_model = LinearRegression().fit(X_train,y_train)\n",
    "predicted_y = linear_model.predict(X_test) \n",
    "\n",
    "df_submission_9 = df_test\n",
    "df_submission_9['SalePrice'] = predicted_y\n",
    "df_submission_9 = df_submission_9[['Id','SalePrice']]"
   ]
  },
  {
   "cell_type": "code",
   "execution_count": 67,
   "metadata": {},
   "outputs": [],
   "source": [
    "df_submission_9.to_csv('submission9_linear_dummies.csv',index=False)"
   ]
  },
  {
   "cell_type": "code",
   "execution_count": 68,
   "metadata": {},
   "outputs": [],
   "source": [
    "from sklearn.ensemble import RandomForestClassifier\n",
    "\n",
    "rf = RandomForestClassifier(n_estimators=100, oob_score=True, random_state=123456)\n",
    "rf.fit(X_train, y_train)\n",
    "\n",
    "y_pred = rf.predict(X_test)\n",
    "predictions = [value for value in y_pred]\n",
    "\n",
    "df_submission_10_rf = df_test\n",
    "df_submission_10_rf['SalePrice'] = predictions\n",
    "df_submission_10_rf = df_submission_10_rf[['Id','SalePrice']]\n",
    "df_submission_10_rf.to_csv('df_submission_10_rf.csv',index=False)"
   ]
  },
  {
   "cell_type": "markdown",
   "metadata": {},
   "source": [
    "# linear with top 7 correlations"
   ]
  },
  {
   "cell_type": "code",
   "execution_count": 69,
   "metadata": {},
   "outputs": [],
   "source": [
    "df_dummies = pd.get_dummies(df)\n",
    "df_dummies_test = pd.get_dummies(df_test)"
   ]
  },
  {
   "cell_type": "code",
   "execution_count": 70,
   "metadata": {},
   "outputs": [],
   "source": [
    "i = df_dummies.corr()\n",
    "\n",
    "s = i.unstack()\n",
    "so = s.sort_values(kind=\"quicksort\")"
   ]
  },
  {
   "cell_type": "code",
   "execution_count": 71,
   "metadata": {},
   "outputs": [
    {
     "data": {
      "text/plain": [
       "(1459, 45)"
      ]
     },
     "execution_count": 71,
     "metadata": {},
     "output_type": "execute_result"
    }
   ],
   "source": [
    "top45 = so.SalePrice.tail(45).index.tolist()\n",
    "df_dummies = df_dummies[top45]\n",
    "df_dummies_test = df_dummies_test[top45]\n",
    "df_dummies_test.shape"
   ]
  },
  {
   "cell_type": "code",
   "execution_count": 72,
   "metadata": {},
   "outputs": [
    {
     "data": {
      "text/plain": [
       "(1460, 45)"
      ]
     },
     "execution_count": 72,
     "metadata": {},
     "output_type": "execute_result"
    }
   ],
   "source": [
    "df_dummies.shape"
   ]
  },
  {
   "cell_type": "code",
   "execution_count": 73,
   "metadata": {},
   "outputs": [],
   "source": [
    "X_train = df_dummies.drop('SalePrice', axis = 1)\n",
    "y_train = df_dummies.SalePrice\n",
    "X_test = df_dummies_test\n",
    "X_test = X_test.drop('SalePrice', axis = 1)  # have to drop Sale Price from X_test since reusing the same variable names from the first test"
   ]
  },
  {
   "cell_type": "code",
   "execution_count": 74,
   "metadata": {},
   "outputs": [],
   "source": [
    "linear_model = LinearRegression().fit(X_train,y_train)\n",
    "predicted_y = linear_model.predict(X_test) \n",
    "\n",
    "df_submission_11 = df_test\n",
    "df_submission_11['SalePrice'] = predicted_y\n",
    "df_submission_11 = df_submission_11[['Id','SalePrice']]"
   ]
  },
  {
   "cell_type": "code",
   "execution_count": 75,
   "metadata": {},
   "outputs": [],
   "source": [
    "df_submission_11.to_csv('submission11_linear_dummies.csv',index=False)"
   ]
  },
  {
   "cell_type": "markdown",
   "metadata": {},
   "source": [
    "# Ridge"
   ]
  },
  {
   "cell_type": "code",
   "execution_count": 76,
   "metadata": {},
   "outputs": [],
   "source": [
    "df_dummies = pd.get_dummies(df)\n",
    "df_dummies_test = pd.get_dummies(df_test)"
   ]
  },
  {
   "cell_type": "code",
   "execution_count": 77,
   "metadata": {},
   "outputs": [],
   "source": [
    "i = df_dummies.corr()\n",
    "\n",
    "s = i.unstack()\n",
    "so = s.sort_values(kind=\"quicksort\")"
   ]
  },
  {
   "cell_type": "code",
   "execution_count": 78,
   "metadata": {},
   "outputs": [
    {
     "data": {
      "text/plain": [
       "(1459, 45)"
      ]
     },
     "execution_count": 78,
     "metadata": {},
     "output_type": "execute_result"
    }
   ],
   "source": [
    "top45 = so.SalePrice.tail(45).index.tolist()\n",
    "df_dummies = df_dummies[top45]\n",
    "df_dummies_test = df_dummies_test[top45]\n",
    "df_dummies_test.shape"
   ]
  },
  {
   "cell_type": "code",
   "execution_count": 79,
   "metadata": {},
   "outputs": [
    {
     "data": {
      "text/plain": [
       "(1460, 45)"
      ]
     },
     "execution_count": 79,
     "metadata": {},
     "output_type": "execute_result"
    }
   ],
   "source": [
    "df_dummies.shape"
   ]
  },
  {
   "cell_type": "code",
   "execution_count": 80,
   "metadata": {},
   "outputs": [],
   "source": [
    "from sklearn.linear_model import Ridge\n",
    "\n",
    "X_train = df_dummies.drop('SalePrice', axis = 1)\n",
    "y_train = df_dummies.SalePrice\n",
    "X_test = df_dummies_test\n",
    "X_test = X_test.drop('SalePrice', axis = 1)  # have to drop Sale Price from X_test since reusing the same variable names from the first test\n"
   ]
  },
  {
   "cell_type": "code",
   "execution_count": 81,
   "metadata": {},
   "outputs": [],
   "source": [
    "ridge = Ridge(alpha=0.1, normalize=True)\n",
    "ridge.fit(X_train, y_train)\n",
    "ridge_pred = ridge.predict(X_test)\n",
    "\n",
    "df_submission_12 = df_test\n",
    "df_submission_12['SalePrice'] = predicted_y\n",
    "df_submission_12 = df_submission_12[['Id','SalePrice']]"
   ]
  },
  {
   "cell_type": "code",
   "execution_count": 82,
   "metadata": {},
   "outputs": [],
   "source": [
    "df_submission_12.to_csv('submission12_ridge_dummies.csv',index=False)"
   ]
  },
  {
   "cell_type": "markdown",
   "metadata": {},
   "source": [
    "# Lasso attempt, #1"
   ]
  },
  {
   "cell_type": "code",
   "execution_count": 83,
   "metadata": {},
   "outputs": [
    {
     "data": {
      "text/plain": [
       "(1459, 45)"
      ]
     },
     "execution_count": 83,
     "metadata": {},
     "output_type": "execute_result"
    }
   ],
   "source": [
    "i = df_dummies.corr()\n",
    "\n",
    "s = i.unstack()\n",
    "so = s.sort_values(kind=\"quicksort\")\n",
    "\n",
    "top45 = so.SalePrice.tail(45).index.tolist()\n",
    "\n",
    "df_dummies = df_dummies[top45]\n",
    "df_dummies_test = df_dummies_test[top45]\n",
    "df_dummies_test.shape"
   ]
  },
  {
   "cell_type": "code",
   "execution_count": 84,
   "metadata": {},
   "outputs": [],
   "source": [
    "from sklearn.linear_model import Lasso \n",
    "\n",
    "lassoReg = Lasso(alpha=0.3, normalize=True)\n",
    "lassoReg.fit(X_train, y_train)\n",
    "pred = lassoReg.predict(X_test)\n",
    "\n",
    "df_submission_12 = df_test\n",
    "df_submission_12['SalePrice'] = predicted_y\n",
    "df_submission_12 = df_submission_12[['Id','SalePrice']]\n",
    "df_submission_12.to_csv('submission12_lasso_dummies.csv',index=False)"
   ]
  },
  {
   "cell_type": "markdown",
   "metadata": {},
   "source": [
    "### Lasso with alpha 0.3, Ridge with alpha 0.1, and linear with dummies all resulted in a score = 0.20905"
   ]
  },
  {
   "cell_type": "code",
   "execution_count": 85,
   "metadata": {},
   "outputs": [
    {
     "data": {
      "text/html": [
       "<div>\n",
       "<style scoped>\n",
       "    .dataframe tbody tr th:only-of-type {\n",
       "        vertical-align: middle;\n",
       "    }\n",
       "\n",
       "    .dataframe tbody tr th {\n",
       "        vertical-align: top;\n",
       "    }\n",
       "\n",
       "    .dataframe thead th {\n",
       "        text-align: right;\n",
       "    }\n",
       "</style>\n",
       "<table border=\"1\" class=\"dataframe\">\n",
       "  <thead>\n",
       "    <tr style=\"text-align: right;\">\n",
       "      <th></th>\n",
       "      <th>Condition1</th>\n",
       "      <th>BsmtCond</th>\n",
       "      <th>PoolArea</th>\n",
       "      <th>Exterior1st</th>\n",
       "      <th>Exterior2nd</th>\n",
       "      <th>ScreenPorch</th>\n",
       "      <th>Functional</th>\n",
       "      <th>ExterCond</th>\n",
       "      <th>RoofMatl</th>\n",
       "      <th>Fence</th>\n",
       "      <th>...</th>\n",
       "      <th>TotRmsAbvGrd</th>\n",
       "      <th>YearBuilt</th>\n",
       "      <th>FullBath</th>\n",
       "      <th>1stFlrSF</th>\n",
       "      <th>TotalBsmtSF</th>\n",
       "      <th>GarageArea</th>\n",
       "      <th>GarageCars</th>\n",
       "      <th>GrLivArea</th>\n",
       "      <th>Total_sq</th>\n",
       "      <th>SalePrice</th>\n",
       "    </tr>\n",
       "  </thead>\n",
       "  <tbody>\n",
       "    <tr>\n",
       "      <th>0</th>\n",
       "      <td>2</td>\n",
       "      <td>4</td>\n",
       "      <td>0</td>\n",
       "      <td>12</td>\n",
       "      <td>13</td>\n",
       "      <td>0</td>\n",
       "      <td>6</td>\n",
       "      <td>4</td>\n",
       "      <td>1</td>\n",
       "      <td>4</td>\n",
       "      <td>...</td>\n",
       "      <td>8</td>\n",
       "      <td>104</td>\n",
       "      <td>2</td>\n",
       "      <td>856</td>\n",
       "      <td>856</td>\n",
       "      <td>548</td>\n",
       "      <td>2</td>\n",
       "      <td>1710</td>\n",
       "      <td>2566</td>\n",
       "      <td>208500</td>\n",
       "    </tr>\n",
       "    <tr>\n",
       "      <th>1</th>\n",
       "      <td>1</td>\n",
       "      <td>4</td>\n",
       "      <td>0</td>\n",
       "      <td>8</td>\n",
       "      <td>8</td>\n",
       "      <td>0</td>\n",
       "      <td>6</td>\n",
       "      <td>4</td>\n",
       "      <td>1</td>\n",
       "      <td>4</td>\n",
       "      <td>...</td>\n",
       "      <td>6</td>\n",
       "      <td>77</td>\n",
       "      <td>2</td>\n",
       "      <td>1262</td>\n",
       "      <td>1262</td>\n",
       "      <td>460</td>\n",
       "      <td>2</td>\n",
       "      <td>1262</td>\n",
       "      <td>2524</td>\n",
       "      <td>181500</td>\n",
       "    </tr>\n",
       "    <tr>\n",
       "      <th>2</th>\n",
       "      <td>2</td>\n",
       "      <td>4</td>\n",
       "      <td>0</td>\n",
       "      <td>12</td>\n",
       "      <td>13</td>\n",
       "      <td>0</td>\n",
       "      <td>6</td>\n",
       "      <td>4</td>\n",
       "      <td>1</td>\n",
       "      <td>4</td>\n",
       "      <td>...</td>\n",
       "      <td>6</td>\n",
       "      <td>102</td>\n",
       "      <td>2</td>\n",
       "      <td>920</td>\n",
       "      <td>920</td>\n",
       "      <td>608</td>\n",
       "      <td>2</td>\n",
       "      <td>1786</td>\n",
       "      <td>2706</td>\n",
       "      <td>223500</td>\n",
       "    </tr>\n",
       "    <tr>\n",
       "      <th>3</th>\n",
       "      <td>2</td>\n",
       "      <td>1</td>\n",
       "      <td>0</td>\n",
       "      <td>13</td>\n",
       "      <td>15</td>\n",
       "      <td>0</td>\n",
       "      <td>6</td>\n",
       "      <td>4</td>\n",
       "      <td>1</td>\n",
       "      <td>4</td>\n",
       "      <td>...</td>\n",
       "      <td>7</td>\n",
       "      <td>19</td>\n",
       "      <td>1</td>\n",
       "      <td>961</td>\n",
       "      <td>756</td>\n",
       "      <td>642</td>\n",
       "      <td>3</td>\n",
       "      <td>1717</td>\n",
       "      <td>2473</td>\n",
       "      <td>140000</td>\n",
       "    </tr>\n",
       "    <tr>\n",
       "      <th>4</th>\n",
       "      <td>2</td>\n",
       "      <td>4</td>\n",
       "      <td>0</td>\n",
       "      <td>12</td>\n",
       "      <td>13</td>\n",
       "      <td>0</td>\n",
       "      <td>6</td>\n",
       "      <td>4</td>\n",
       "      <td>1</td>\n",
       "      <td>4</td>\n",
       "      <td>...</td>\n",
       "      <td>9</td>\n",
       "      <td>101</td>\n",
       "      <td>2</td>\n",
       "      <td>1145</td>\n",
       "      <td>1145</td>\n",
       "      <td>836</td>\n",
       "      <td>3</td>\n",
       "      <td>2198</td>\n",
       "      <td>3343</td>\n",
       "      <td>250000</td>\n",
       "    </tr>\n",
       "  </tbody>\n",
       "</table>\n",
       "<p>5 rows × 45 columns</p>\n",
       "</div>"
      ],
      "text/plain": [
       "   Condition1  BsmtCond  PoolArea  Exterior1st  Exterior2nd  ScreenPorch  \\\n",
       "0           2         4         0           12           13            0   \n",
       "1           1         4         0            8            8            0   \n",
       "2           2         4         0           12           13            0   \n",
       "3           2         1         0           13           15            0   \n",
       "4           2         4         0           12           13            0   \n",
       "\n",
       "   Functional  ExterCond  RoofMatl  Fence    ...      TotRmsAbvGrd  YearBuilt  \\\n",
       "0           6          4         1      4    ...                 8        104   \n",
       "1           6          4         1      4    ...                 6         77   \n",
       "2           6          4         1      4    ...                 6        102   \n",
       "3           6          4         1      4    ...                 7         19   \n",
       "4           6          4         1      4    ...                 9        101   \n",
       "\n",
       "   FullBath  1stFlrSF  TotalBsmtSF  GarageArea  GarageCars  GrLivArea  \\\n",
       "0         2       856          856         548           2       1710   \n",
       "1         2      1262         1262         460           2       1262   \n",
       "2         2       920          920         608           2       1786   \n",
       "3         1       961          756         642           3       1717   \n",
       "4         2      1145         1145         836           3       2198   \n",
       "\n",
       "   Total_sq  SalePrice  \n",
       "0      2566     208500  \n",
       "1      2524     181500  \n",
       "2      2706     223500  \n",
       "3      2473     140000  \n",
       "4      3343     250000  \n",
       "\n",
       "[5 rows x 45 columns]"
      ]
     },
     "execution_count": 85,
     "metadata": {},
     "output_type": "execute_result"
    }
   ],
   "source": [
    "df_dummies.head()"
   ]
  },
  {
   "cell_type": "markdown",
   "metadata": {},
   "source": [
    "# Reset. No dummies. Think smart. "
   ]
  },
  {
   "cell_type": "code",
   "execution_count": null,
   "metadata": {},
   "outputs": [],
   "source": []
  },
  {
   "cell_type": "code",
   "execution_count": 92,
   "metadata": {},
   "outputs": [],
   "source": [
    "df_515 = df.copy(deep=True)\n",
    "df_515_test = df_test.copy(deep=True)"
   ]
  },
  {
   "cell_type": "code",
   "execution_count": 91,
   "metadata": {},
   "outputs": [
    {
     "data": {
      "text/plain": [
       "TA    906\n",
       "Gd    488\n",
       "Ex     52\n",
       "Fa     14\n",
       "Name: ExterQual, dtype: int64"
      ]
     },
     "execution_count": 91,
     "metadata": {},
     "output_type": "execute_result"
    }
   ],
   "source": [
    "df.ExterQual.value_counts()"
   ]
  },
  {
   "cell_type": "code",
   "execution_count": 93,
   "metadata": {},
   "outputs": [
    {
     "data": {
      "text/plain": [
       "TA    906\n",
       "Gd    488\n",
       "Ex     52\n",
       "Fa     14\n",
       "Name: ExterQual, dtype: int64"
      ]
     },
     "execution_count": 93,
     "metadata": {},
     "output_type": "execute_result"
    }
   ],
   "source": [
    "df_515.ExterQual.value_counts()"
   ]
  },
  {
   "cell_type": "code",
   "execution_count": 94,
   "metadata": {},
   "outputs": [],
   "source": [
    "df_515.ExterQual = df_515.ExterQual.map({\n",
    "    'Ex': 5,\n",
    "    'Gd': 4,\n",
    "    'TA': 3,\n",
    "    'Fa': 2,\n",
    "    'Po': 1,\n",
    "    'NA': 0})\n",
    "\n",
    "df_515.ExterCond = df_515.ExterCond.map({\n",
    "    'Ex': 5,\n",
    "    'Gd': 4,\n",
    "    'TA': 3,\n",
    "    'Fa': 2,\n",
    "    'Po': 1,\n",
    "    'NA': 0})\n",
    "\n",
    "df_515.BsmtQual = df_515.BsmtQual.map({\n",
    "    'Ex': 5,\n",
    "    'Gd': 4,\n",
    "    'TA': 3,\n",
    "    'Fa': 2,\n",
    "    'Po': 1,\n",
    "    'NA': 0})\n",
    "\n",
    "df_515.HeatingQC = df_515.HeatingQC.map({\n",
    "    'Ex': 5,\n",
    "    'Gd': 4,\n",
    "    'TA': 3,\n",
    "    'Fa': 2,\n",
    "    'Po': 1,\n",
    "    'NA': 0})\n",
    "\n",
    "df_515.KitchenQual = df_515.KitchenQual.map({\n",
    "    'Ex': 5,\n",
    "    'Gd': 4,\n",
    "    'TA': 3,\n",
    "    'Fa': 2,\n",
    "    'Po': 1,\n",
    "    'NA': 0})\n",
    "\n",
    "df_515.FireplaceQu = df_515.FireplaceQu.map({\n",
    "    'Ex': 5,\n",
    "    'Gd': 4,\n",
    "    'TA': 3,\n",
    "    'Fa': 2,\n",
    "    'Po': 1,\n",
    "    'NA': 0})\n",
    "\n",
    "df_515.GarageQual = df_515.GarageQual.map({\n",
    "    'Ex': 5,\n",
    "    'Gd': 4,\n",
    "    'TA': 3,\n",
    "    'Fa': 2,\n",
    "    'Po': 1,\n",
    "    'NA': 0})\n",
    "\n",
    "df_515.GarageCond = df_515.GarageCond.map({\n",
    "    'Ex': 5,\n",
    "    'Gd': 4,\n",
    "    'TA': 3,\n",
    "    'Fa': 2,\n",
    "    'Po': 1,\n",
    "    'NA': 0})\n",
    "\n",
    "df_515.PoolQC = df_515.PoolQC.map({\n",
    "    'Ex': 5,\n",
    "    'Gd': 4,\n",
    "    'TA': 3,\n",
    "    'Fa': 2,\n",
    "    'Po': 1,\n",
    "    'NA': 0})\n",
    "\n",
    "df_515.BsmtExposure = df_515.BsmtExposure.map({\n",
    "    'Gd': 5,\n",
    "    'Av': 3,\n",
    "    'Mn': 2,\n",
    "    'No': 1,\n",
    "    'NA': 0})"
   ]
  },
  {
   "cell_type": "code",
   "execution_count": 95,
   "metadata": {},
   "outputs": [],
   "source": [
    "df_515_test.ExterQual = df_515_test.ExterQual.map({\n",
    "    'Ex': 5,\n",
    "    'Gd': 4,\n",
    "    'TA': 3,\n",
    "    'Fa': 2,\n",
    "    'Po': 1,\n",
    "    'NA': 0})\n",
    "\n",
    "df_515_test.ExterCond = df_515_test.ExterCond.map({\n",
    "    'Ex': 5,\n",
    "    'Gd': 4,\n",
    "    'TA': 3,\n",
    "    'Fa': 2,\n",
    "    'Po': 1,\n",
    "    'NA': 0})\n",
    "\n",
    "df_515_test.BsmtQual = df_515_test.BsmtQual.map({\n",
    "    'Ex': 5,\n",
    "    'Gd': 4,\n",
    "    'TA': 3,\n",
    "    'Fa': 2,\n",
    "    'Po': 1,\n",
    "    'NA': 0})\n",
    "\n",
    "df_515_test.HeatingQC = df_515_test.HeatingQC.map({\n",
    "    'Ex': 5,\n",
    "    'Gd': 4,\n",
    "    'TA': 3,\n",
    "    'Fa': 2,\n",
    "    'Po': 1,\n",
    "    'NA': 0})\n",
    "\n",
    "df_515_test.KitchenQual = df_515_test.KitchenQual.map({\n",
    "    'Ex': 5,\n",
    "    'Gd': 4,\n",
    "    'TA': 3,\n",
    "    'Fa': 2,\n",
    "    'Po': 1,\n",
    "    'NA': 0})\n",
    "\n",
    "df_515_test.FireplaceQu = df_515_test.FireplaceQu.map({\n",
    "    'Ex': 5,\n",
    "    'Gd': 4,\n",
    "    'TA': 3,\n",
    "    'Fa': 2,\n",
    "    'Po': 1,\n",
    "    'NA': 0})\n",
    "\n",
    "df_515_test.GarageQual = df_515_test.GarageQual.map({\n",
    "    'Ex': 5,\n",
    "    'Gd': 4,\n",
    "    'TA': 3,\n",
    "    'Fa': 2,\n",
    "    'Po': 1,\n",
    "    'NA': 0})\n",
    "\n",
    "df_515_test.GarageCond = df_515_test.GarageCond.map({\n",
    "    'Ex': 5,\n",
    "    'Gd': 4,\n",
    "    'TA': 3,\n",
    "    'Fa': 2,\n",
    "    'Po': 1,\n",
    "    'NA': 0})\n",
    "\n",
    "df_515_test.PoolQC = df_515_test.PoolQC.map({\n",
    "    'Ex': 5,\n",
    "    'Gd': 4,\n",
    "    'TA': 3,\n",
    "    'Fa': 2,\n",
    "    'Po': 1,\n",
    "    'NA': 0})\n",
    "\n",
    "df_515_test.BsmtExposure = df_515_test.BsmtExposure.map({\n",
    "    'Gd': 5,\n",
    "    'Av': 3,\n",
    "    'Mn': 2,\n",
    "    'No': 1,\n",
    "    'NA': 0})"
   ]
  },
  {
   "cell_type": "code",
   "execution_count": 97,
   "metadata": {},
   "outputs": [
    {
     "data": {
      "text/plain": [
       "Exterior2nd     0\n",
       "Exterior1st     0\n",
       "RoofMatl        0\n",
       "YearRemodAdd    0\n",
       "Total_sq        0\n",
       "dtype: int64"
      ]
     },
     "execution_count": 97,
     "metadata": {},
     "output_type": "execute_result"
    }
   ],
   "source": [
    "df_515.isnull().sum().sort_values().tail(5)"
   ]
  },
  {
   "cell_type": "code",
   "execution_count": 98,
   "metadata": {},
   "outputs": [
    {
     "data": {
      "text/plain": [
       "<matplotlib.axes._subplots.AxesSubplot at 0x2bcd3a11390>"
      ]
     },
     "execution_count": 98,
     "metadata": {},
     "output_type": "execute_result"
    },
    {
     "data": {
      "image/png": "[encoded data removed]",
      "text/plain": [
       "<matplotlib.figure.Figure at 0x2bcd3a115c0>"
      ]
     },
     "metadata": {},
     "output_type": "display_data"
    }
   ],
   "source": [
    "sns.stripplot(x=df_515.SalePrice, y=df_515.MSZoning)"
   ]
  },
  {
   "cell_type": "code",
   "execution_count": 99,
   "metadata": {},
   "outputs": [],
   "source": [
    "df_515['DollarPerSqFt'] = (df_515.SalePrice/df_515.Total_sq)\n",
    "\n",
    "DollarPerZone = df_515.groupby(['MSZoning'])['DollarPerSqFt'].median().reset_index()\n",
    "df_515.drop('DollarPerSqFt', axis = 1, inplace=True)"
   ]
  },
  {
   "cell_type": "code",
   "execution_count": 100,
   "metadata": {},
   "outputs": [
    {
     "data": {
      "text/plain": [
       "<matplotlib.axes._subplots.AxesSubplot at 0x2bcd1e050b8>"
      ]
     },
     "execution_count": 100,
     "metadata": {},
     "output_type": "execute_result"
    },
    {
     "data": {
      "image/png": "[encoded data removed]",
      "text/plain": [
       "<matplotlib.figure.Figure at 0x2bcd39b27f0>"
      ]
     },
     "metadata": {},
     "output_type": "display_data"
    }
   ],
   "source": [
    "sns.stripplot(x=DollarPerZone.DollarPerSqFt, y=DollarPerZone.MSZoning)"
   ]
  },
  {
   "cell_type": "code",
   "execution_count": 101,
   "metadata": {},
   "outputs": [],
   "source": [
    "df_515 = pd.merge(df_515, DollarPerZone, how='left', on=['MSZoning'])\n",
    "df_515_test = pd.merge(df_515_test, DollarPerZone, how='left', on=['MSZoning'])\n",
    "\n",
    "df_515.drop('MSZoning', axis = 1, inplace=True)\n",
    "df_515_test.drop('MSZoning', axis = 1, inplace=True)"
   ]
  },
  {
   "cell_type": "code",
   "execution_count": 102,
   "metadata": {},
   "outputs": [
    {
     "data": {
      "text/html": [
       "<div>\n",
       "<style scoped>\n",
       "    .dataframe tbody tr th:only-of-type {\n",
       "        vertical-align: middle;\n",
       "    }\n",
       "\n",
       "    .dataframe tbody tr th {\n",
       "        vertical-align: top;\n",
       "    }\n",
       "\n",
       "    .dataframe thead th {\n",
       "        text-align: right;\n",
       "    }\n",
       "</style>\n",
       "<table border=\"1\" class=\"dataframe\">\n",
       "  <thead>\n",
       "    <tr style=\"text-align: right;\">\n",
       "      <th></th>\n",
       "      <th>Id</th>\n",
       "      <th>MSSubClass</th>\n",
       "      <th>LotFrontage</th>\n",
       "      <th>LotArea</th>\n",
       "      <th>Street</th>\n",
       "      <th>Alley</th>\n",
       "      <th>LotShape</th>\n",
       "      <th>LandContour</th>\n",
       "      <th>Utilities</th>\n",
       "      <th>LotConfig</th>\n",
       "      <th>...</th>\n",
       "      <th>Fence</th>\n",
       "      <th>MiscFeature</th>\n",
       "      <th>MiscVal</th>\n",
       "      <th>MoSold</th>\n",
       "      <th>YrSold</th>\n",
       "      <th>SaleType</th>\n",
       "      <th>SaleCondition</th>\n",
       "      <th>SalePrice</th>\n",
       "      <th>Total_sq</th>\n",
       "      <th>DollarPerSqFt</th>\n",
       "    </tr>\n",
       "  </thead>\n",
       "  <tbody>\n",
       "    <tr>\n",
       "      <th>0</th>\n",
       "      <td>1</td>\n",
       "      <td>60</td>\n",
       "      <td>65.0</td>\n",
       "      <td>8450</td>\n",
       "      <td>Pave</td>\n",
       "      <td>NA</td>\n",
       "      <td>Reg</td>\n",
       "      <td>Lvl</td>\n",
       "      <td>AllPub</td>\n",
       "      <td>Inside</td>\n",
       "      <td>...</td>\n",
       "      <td>NA</td>\n",
       "      <td>NA</td>\n",
       "      <td>0</td>\n",
       "      <td>2</td>\n",
       "      <td>2008</td>\n",
       "      <td>WD</td>\n",
       "      <td>Normal</td>\n",
       "      <td>208500</td>\n",
       "      <td>2566</td>\n",
       "      <td>70.685733</td>\n",
       "    </tr>\n",
       "    <tr>\n",
       "      <th>1</th>\n",
       "      <td>2</td>\n",
       "      <td>20</td>\n",
       "      <td>80.0</td>\n",
       "      <td>9600</td>\n",
       "      <td>Pave</td>\n",
       "      <td>NA</td>\n",
       "      <td>Reg</td>\n",
       "      <td>Lvl</td>\n",
       "      <td>AllPub</td>\n",
       "      <td>FR2</td>\n",
       "      <td>...</td>\n",
       "      <td>NA</td>\n",
       "      <td>NA</td>\n",
       "      <td>0</td>\n",
       "      <td>5</td>\n",
       "      <td>2007</td>\n",
       "      <td>WD</td>\n",
       "      <td>Normal</td>\n",
       "      <td>181500</td>\n",
       "      <td>2524</td>\n",
       "      <td>70.685733</td>\n",
       "    </tr>\n",
       "    <tr>\n",
       "      <th>2</th>\n",
       "      <td>3</td>\n",
       "      <td>60</td>\n",
       "      <td>68.0</td>\n",
       "      <td>11250</td>\n",
       "      <td>Pave</td>\n",
       "      <td>NA</td>\n",
       "      <td>IR1</td>\n",
       "      <td>Lvl</td>\n",
       "      <td>AllPub</td>\n",
       "      <td>Inside</td>\n",
       "      <td>...</td>\n",
       "      <td>NA</td>\n",
       "      <td>NA</td>\n",
       "      <td>0</td>\n",
       "      <td>9</td>\n",
       "      <td>2008</td>\n",
       "      <td>WD</td>\n",
       "      <td>Normal</td>\n",
       "      <td>223500</td>\n",
       "      <td>2706</td>\n",
       "      <td>70.685733</td>\n",
       "    </tr>\n",
       "    <tr>\n",
       "      <th>3</th>\n",
       "      <td>4</td>\n",
       "      <td>70</td>\n",
       "      <td>60.0</td>\n",
       "      <td>9550</td>\n",
       "      <td>Pave</td>\n",
       "      <td>NA</td>\n",
       "      <td>IR1</td>\n",
       "      <td>Lvl</td>\n",
       "      <td>AllPub</td>\n",
       "      <td>Corner</td>\n",
       "      <td>...</td>\n",
       "      <td>NA</td>\n",
       "      <td>NA</td>\n",
       "      <td>0</td>\n",
       "      <td>2</td>\n",
       "      <td>2006</td>\n",
       "      <td>WD</td>\n",
       "      <td>Abnorml</td>\n",
       "      <td>140000</td>\n",
       "      <td>2473</td>\n",
       "      <td>70.685733</td>\n",
       "    </tr>\n",
       "    <tr>\n",
       "      <th>4</th>\n",
       "      <td>5</td>\n",
       "      <td>60</td>\n",
       "      <td>84.0</td>\n",
       "      <td>14260</td>\n",
       "      <td>Pave</td>\n",
       "      <td>NA</td>\n",
       "      <td>IR1</td>\n",
       "      <td>Lvl</td>\n",
       "      <td>AllPub</td>\n",
       "      <td>FR2</td>\n",
       "      <td>...</td>\n",
       "      <td>NA</td>\n",
       "      <td>NA</td>\n",
       "      <td>0</td>\n",
       "      <td>12</td>\n",
       "      <td>2008</td>\n",
       "      <td>WD</td>\n",
       "      <td>Normal</td>\n",
       "      <td>250000</td>\n",
       "      <td>3343</td>\n",
       "      <td>70.685733</td>\n",
       "    </tr>\n",
       "  </tbody>\n",
       "</table>\n",
       "<p>5 rows × 82 columns</p>\n",
       "</div>"
      ],
      "text/plain": [
       "   Id MSSubClass  LotFrontage  LotArea Street Alley LotShape LandContour  \\\n",
       "0   1         60         65.0     8450   Pave    NA      Reg         Lvl   \n",
       "1   2         20         80.0     9600   Pave    NA      Reg         Lvl   \n",
       "2   3         60         68.0    11250   Pave    NA      IR1         Lvl   \n",
       "3   4         70         60.0     9550   Pave    NA      IR1         Lvl   \n",
       "4   5         60         84.0    14260   Pave    NA      IR1         Lvl   \n",
       "\n",
       "  Utilities LotConfig      ...      Fence MiscFeature MiscVal MoSold YrSold  \\\n",
       "0    AllPub    Inside      ...         NA          NA       0      2   2008   \n",
       "1    AllPub       FR2      ...         NA          NA       0      5   2007   \n",
       "2    AllPub    Inside      ...         NA          NA       0      9   2008   \n",
       "3    AllPub    Corner      ...         NA          NA       0      2   2006   \n",
       "4    AllPub       FR2      ...         NA          NA       0     12   2008   \n",
       "\n",
       "  SaleType SaleCondition SalePrice Total_sq DollarPerSqFt  \n",
       "0       WD        Normal    208500     2566     70.685733  \n",
       "1       WD        Normal    181500     2524     70.685733  \n",
       "2       WD        Normal    223500     2706     70.685733  \n",
       "3       WD       Abnorml    140000     2473     70.685733  \n",
       "4       WD        Normal    250000     3343     70.685733  \n",
       "\n",
       "[5 rows x 82 columns]"
      ]
     },
     "execution_count": 102,
     "metadata": {},
     "output_type": "execute_result"
    }
   ],
   "source": [
    "df_515.head()"
   ]
  },
  {
   "cell_type": "code",
   "execution_count": 103,
   "metadata": {},
   "outputs": [],
   "source": [
    "corr = df_515.corr()\n",
    "s = corr.unstack()\n",
    "so = s.SalePrice.sort_values(kind=\"quicksort\")"
   ]
  },
  {
   "cell_type": "code",
   "execution_count": 104,
   "metadata": {},
   "outputs": [
    {
     "data": {
      "text/plain": [
       "KitchenAbvGr    -0.135907\n",
       "EnclosedPorch   -0.128578\n",
       "YrSold          -0.028923\n",
       "LowQualFinSF    -0.025606\n",
       "Id              -0.021917\n",
       "MiscVal         -0.021190\n",
       "BsmtHalfBath    -0.016844\n",
       "BsmtFinSF2      -0.011378\n",
       "ExterCond        0.018899\n",
       "3SsnPorch        0.044584\n",
       "PoolArea         0.092404\n",
       "ScreenPorch      0.111447\n",
       "PoolQC           0.111696\n",
       "BedroomAbvGr     0.168213\n",
       "BsmtUnfSF        0.214479\n",
       "BsmtFullBath     0.227122\n",
       "GarageCond       0.263191\n",
       "LotArea          0.263843\n",
       "GarageQual       0.273839\n",
       "HalfBath         0.284108\n",
       "DollarPerSqFt    0.309638\n",
       "OpenPorchSF      0.315856\n",
       "2ndFlrSF         0.319334\n",
       "WoodDeckSF       0.324413\n",
       "LotFrontage      0.334771\n",
       "BsmtExposure     0.379527\n",
       "BsmtFinSF1       0.386420\n",
       "HeatingQC        0.427649\n",
       "Fireplaces       0.466929\n",
       "MasVnrArea       0.472614\n",
       "FireplaceQu      0.520438\n",
       "TotRmsAbvGrd     0.533723\n",
       "FullBath         0.560664\n",
       "BsmtQual         0.585207\n",
       "1stFlrSF         0.605852\n",
       "TotalBsmtSF      0.613581\n",
       "GarageArea       0.623431\n",
       "GarageCars       0.640409\n",
       "KitchenQual      0.659600\n",
       "ExterQual        0.682639\n",
       "GrLivArea        0.708624\n",
       "Total_sq         0.778959\n",
       "SalePrice        1.000000\n",
       "dtype: float64"
      ]
     },
     "execution_count": 104,
     "metadata": {},
     "output_type": "execute_result"
    }
   ],
   "source": [
    "so"
   ]
  },
  {
   "cell_type": "code",
   "execution_count": 105,
   "metadata": {},
   "outputs": [],
   "source": [
    "top15 = so.tail(15).index.tolist()"
   ]
  },
  {
   "cell_type": "code",
   "execution_count": 106,
   "metadata": {},
   "outputs": [],
   "source": [
    "df_515 = df_515[top15]"
   ]
  },
  {
   "cell_type": "code",
   "execution_count": 107,
   "metadata": {},
   "outputs": [],
   "source": [
    "top15.remove('SalePrice')\n",
    "df_515_test = df_515_test[top15]"
   ]
  },
  {
   "cell_type": "code",
   "execution_count": 108,
   "metadata": {},
   "outputs": [],
   "source": [
    "X_train = df_515.drop('SalePrice', axis = 1)\n",
    "y_train = df_515.SalePrice\n",
    "X_test = df_515_test\n",
    "#X_test = X_test.drop('SalePrice', axis = 1)  # have to drop Sale Price from X_test since reusing the same variable names from the first test"
   ]
  },
  {
   "cell_type": "code",
   "execution_count": 111,
   "metadata": {},
   "outputs": [],
   "source": [
    "from sklearn.linear_model import LinearRegression\n",
    "\n",
    "linear_model = LinearRegression().fit(X_train,y_train)\n",
    "predicted_y = linear_model.predict(X_test) "
   ]
  },
  {
   "cell_type": "code",
   "execution_count": 112,
   "metadata": {},
   "outputs": [],
   "source": [
    "df_submission_13 = df_test\n",
    "df_submission_13['SalePrice'] = predicted_y\n",
    "df_submission_13 = df_submission_13[['Id','SalePrice']]\n",
    "df_submission_13.to_csv('submission13_linear_grades_zoneSqFt.csv',index=False)"
   ]
  },
  {
   "cell_type": "code",
   "execution_count": null,
   "metadata": {},
   "outputs": [],
   "source": []
  }
 ],
 "metadata": {
  "kernelspec": {
   "display_name": "Python 3",
   "language": "python",
   "name": "python3"
  },
  "language_info": {
   "codemirror_mode": {
    "name": "ipython",
    "version": 3
   },
   "file_extension": ".py",
   "mimetype": "text/x-python",
   "name": "python",
   "nbconvert_exporter": "python",
   "pygments_lexer": "ipython3",
   "version": "3.6.4"
  }
 },
 "nbformat": 4,
 "nbformat_minor": 2
}
